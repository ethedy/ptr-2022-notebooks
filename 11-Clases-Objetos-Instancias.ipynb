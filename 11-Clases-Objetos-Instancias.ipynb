{
 "cells": [
  {
   "cell_type": "markdown",
   "metadata": {},
   "source": [
    "Supongamos que tenemos que desarrollar alguna clase de juego al estilo SIMS, donde los personajes se ubican en un \"mundo\" bidimensional, interactuan entre ellos, se mueven, construyen u obtienen objetos...\n",
    "\n",
    "Podriamos empezar creando una clase Personaje con algunos campos que indiquen el nombre del caracter y la ubicacion en el territorio del juego.\n",
    "\n",
    "El juego consiste en hacer interactuar personajes, vehiculos, lugares etc, por lo tanto tenemos que tener estos elementos **en la memoria** instanciados, creados de alguna manera.\n",
    "\n",
    "La clase es el \"molde\" con el que vamos a poder generar estos diferentes objetos/instancias en memoria. Escribimos una unica vez la clase y luego la usamos como molde para generar las instancias de cada personaje en particular.\n",
    "\n",
    "Como vimos previamente, las instancias se crear con el operador **new**\n",
    "\n",
    "La ubicacion y el nombre conforman el **estado** de cada instancia\n"
   ]
  },
  {
   "cell_type": "code",
   "execution_count": null,
   "metadata": {
    "dotnet_interactive": {
     "language": "csharp"
    },
    "vscode": {
     "languageId": "dotnet-interactive.csharp"
    }
   },
   "outputs": [],
   "source": [
    "public class Personaje\n",
    "{\n",
    "  //  el estado del objeto tiene que ser privado\n",
    "  private int X;\n",
    "  private int Y;\n",
    "  private string Nombre;\n",
    "  public void Mover(int x, int y)\n",
    "  {\n",
    "    //  validar que (x, y) este en los limites adecuados\n",
    "    X = x;\n",
    "    Y = y;\n",
    "  }\n",
    "}\n",
    "\n",
    "//  declaramos e instanciamos un nuevo personaje con la sintaxis completa\n",
    "Personaje homer = new Personaje();\n",
    "\n",
    "//  usamos target-typed new\n",
    "Personaje marge = new ();\n",
    "\n",
    "//  usamos type-inference\n",
    "var maggie = new Personaje();"
   ]
  },
  {
   "cell_type": "markdown",
   "metadata": {},
   "source": [
    "Detallar clases, constructores, propiedades, campos\n",
    "\n",
    "Constructores que llaman a otros constructores\n"
   ]
  },
  {
   "cell_type": "code",
   "execution_count": null,
   "metadata": {
    "dotnet_interactive": {
     "language": "csharp"
    },
    "vscode": {
     "languageId": "dotnet-interactive.csharp"
    }
   },
   "outputs": [],
   "source": [
    "public class Personaje\n",
    "{\n",
    "  private const int PERSONAJES_MAXIMOS = 10000;\n",
    "\n",
    "  //  el estado del objeto tiene que ser privado\n",
    "  private int _X;\n",
    "  private int _Y;\n",
    "  private string _nombre;\n",
    "  \n",
    "  public Personaje(string nombre, int x, int y)\n",
    "  {\n",
    "    this._nombre = nombre.Trim();\n",
    "    X = x;\n",
    "    _Y = y;\n",
    "  }\n",
    "\n",
    "  public Personaje(string nombre) : this(nombre, 0, 0)\n",
    "  {\n",
    "    //  si se llaman iguales, this es NECESARIO\n",
    "    //\n",
    "    //  this.nombre = nombre;\n",
    "  }\n",
    "\n",
    "  // public int getX()\n",
    "  // {\n",
    "  //   return X;\n",
    "  // }\n",
    "  // public int getY()\n",
    "  // {\n",
    "  //   return Y;\n",
    "  // }\n",
    "  // public string Nombre()\n",
    "  // {\n",
    "  //   return this.nombre;\n",
    "  // }\n",
    "  // public void setX(int value)\n",
    "  // {\n",
    "  //   if (value < 0) \n",
    "  //     return;\n",
    "\n",
    "  //   this.X = value;\n",
    "  // }\n",
    "\n",
    "  public int X \n",
    "  {\n",
    "    get { return _X; }\n",
    "\n",
    "    private set {\n",
    "      if (value < 0)\n",
    "        return;\n",
    "      _X = value;\n",
    "    }\n",
    "  }\n",
    "\n",
    "  public string Nombre\n",
    "  {\n",
    "    get { return _nombre; }\n",
    "  }\n",
    "\n",
    "  //  this --> valor oculto que referencia a la instancia desde la cual estoy\n",
    "  //           llamando al metodo\n",
    "  //\n",
    "  //  Mover([this], x, y)\n",
    "  //\n",
    "  public void Mover(int x, int y)\n",
    "  {\n",
    "    //  validar que (x, y) este en los limites adecuados\n",
    "\n",
    "    this.X = x;\n",
    "    this._Y = y;\n",
    "  }\n",
    "\n",
    "  public void Mostrar()\n",
    "  {\n",
    "    Console.WriteLine($\"Personaje: [{_nombre}] {_X} {_Y}\");\n",
    "  }\n",
    "\n",
    "  public void Interactuar(Personaje otro)\n",
    "  {\n",
    "\n",
    "  }\n",
    "}\n",
    "\n",
    "Personaje homer = new (\"Homero   \");\n",
    "homer.Mover(-10, 20);      // ==>  \"Personaje.Mover([homer], 10, 20)\"\n",
    "\n",
    "Personaje marge = new Personaje(\"Marge  \", 150, 80);\n",
    "// marge.Mover(10, 20);\n",
    "\n",
    "//  Personaje maggie;\n",
    "\n",
    "homer.Mostrar();\n",
    "marge.Mostrar();\n",
    "\n",
    "//  maggie.Mostrar();\n",
    "\n",
    "//  homer.setX(-200);\n",
    "//  homer.X = -200;\n",
    "\n",
    "//  homer.Nombre().Display();\n",
    "homer.Nombre.Display();\n",
    "homer.Mostrar();\n"
   ]
  },
  {
   "cell_type": "markdown",
   "metadata": {},
   "source": [
    "Agregamos caracteristicas a nuestra poblacion, por ejemplo objetos que podrian tambien ubicarse fisicamente\n"
   ]
  },
  {
   "cell_type": "code",
   "execution_count": null,
   "metadata": {
    "dotnet_interactive": {
     "language": "csharp"
    },
    "vscode": {
     "languageId": "dotnet-interactive.csharp"
    }
   },
   "outputs": [],
   "source": [
    "public class Casa\n",
    "{\n",
    "  public int X {get; private set;}\n",
    "  public int Y {get; private set;}\n",
    "  public Casa(int x, int y)\n",
    "  {\n",
    "    X = x; Y = y;\n",
    "  }\n",
    "  public void Mostrar()\n",
    "  {\n",
    "    Console.WriteLine($\"[Casa]: {X} ; {Y}\");\n",
    "  }\n",
    "}\n",
    "\n",
    "Casa simpsoms = new Casa(100, 100);\n",
    "simpsoms.Mostrar();"
   ]
  },
  {
   "cell_type": "markdown",
   "metadata": {},
   "source": [
    "Que similitudes tenemos con los personajes?\n",
    "\n",
    "Podriamos incorporar un nuevo elemento que abstraiga las propiedades comunes? Cuando hablamos de propiedades comunes tambien nos referimos a comportamientos!\n",
    "\n",
    "Pero que pasa con Mostrar()? no es lo mismo mostrar una casa que un personaje...\n",
    "\n",
    "El metodo Mostrar() debe ser **abstracto** o sea que se deja explicitamente sin implementar para obligar a las demas clases **DERIVADAS** a hacerlo\n",
    "\n",
    "Declarar un miembro protected es \"hacerlo privado para todas la jerarquia de clases\": o sea nadie fuera de esta jerarquia va a poder modificarlo..."
   ]
  },
  {
   "cell_type": "code",
   "execution_count": null,
   "metadata": {
    "dotnet_interactive": {
     "language": "csharp"
    },
    "vscode": {
     "languageId": "dotnet-interactive.csharp"
    }
   },
   "outputs": [],
   "source": [
    "public abstract class ItemJuego\n",
    "{\n",
    "  public int X {get; protected set;}\n",
    "  public int Y {get; protected set;}\n",
    "  \n",
    "  protected ItemJuego(int x, int y)\n",
    "  {\n",
    "    //  chequear limites de (x, y) EN UN UNICO LUGAR!!!\n",
    "    Console.WriteLine(\"Chequeado OK!!!\");\n",
    "    X = x; Y = y;\n",
    "  }\n",
    "  public abstract void Mostrar();\n",
    "}\n",
    "\n",
    "public class Personaje : ItemJuego\n",
    "{\n",
    "  public string Nombre {get; private set;}\n",
    "\n",
    "  public Personaje(string nombre, int x, int y) : base(x, y)\n",
    "  {\n",
    "    Nombre = nombre.Trim();\n",
    "  }\n",
    "  public Personaje(string nombre) : this(nombre, 0, 0) { }\n",
    "  \n",
    "  public override void Mostrar()\n",
    "  {\n",
    "    Console.WriteLine($\"Personaje: [{Nombre}] {X} {Y}\");\n",
    "  }\n",
    "  public void Mover(int x, int y)\n",
    "  {\n",
    "    //  validar que (x, y) este en los limites adecuados\n",
    "    X = x; Y = y;\n",
    "  }\n",
    "}\n",
    "\n",
    "public class Casa : ItemJuego\n",
    "{\n",
    "  public Casa(int x, int y) : base(x, y)  {  }\n",
    "\n",
    "  public override void Mostrar()\n",
    "  {\n",
    "    Console.WriteLine($\"[Casa]: {X} ; {Y}\");\n",
    "  }\n",
    "}\n",
    "\n",
    "//  ItemJuego ij = new ItemJuego();\n",
    "\n",
    "Personaje homer = new Personaje(\"Homero\");\n",
    "homer.Mostrar();\n",
    "\n",
    "Personaje marge = new Personaje(\"Marge\", 100, 20);\n",
    "marge.Mostrar();\n",
    "\n",
    "Casa simpsons = new Casa(100, 100);\n",
    "simpsons.Mostrar();\n"
   ]
  },
  {
   "cell_type": "markdown",
   "metadata": {},
   "source": [
    "Los objetos \"reales\" tienen interacciones o relaciones que podemos reflejarlas cuando escribimos las clases que los modelan.\n",
    "\n",
    "Por ejemplo un personaje va a tener un lugar de residencia."
   ]
  },
  {
   "cell_type": "code",
   "execution_count": null,
   "metadata": {
    "dotnet_interactive": {
     "language": "csharp"
    },
    "vscode": {
     "languageId": "dotnet-interactive.csharp"
    }
   },
   "outputs": [],
   "source": [
    "public class Personaje : ItemJuego\n",
    "{\n",
    "  public string Nombre {get; set;}\n",
    "  public Casa Residencia {get; set;}\n",
    "\n",
    "  public Personaje(string nombre, int x, int y) : base(x, y)\n",
    "  {\n",
    "    Nombre = nombre.Trim();\n",
    "  }\n",
    "  public Personaje(string nombre) : this(nombre, 0, 0) { }\n",
    "  \n",
    "  public override void Mostrar()\n",
    "  {\n",
    "    Console.WriteLine($\"Personaje: [{Nombre}] {X} {Y}\");\n",
    "    if (Residencia != null)\n",
    "    {\n",
    "      Console.Write(\" ==> Vive en\");\n",
    "      Residencia.Mostrar();\n",
    "    }\n",
    "    else\n",
    "      Console.WriteLine(\"HOMELESS!!\");\n",
    "  }\n",
    "  public void Mover(int x, int y)\n",
    "  {\n",
    "    //  validar que (x, y) este en los limites adecuados\n",
    "    X = x; Y = y;\n",
    "  }\n",
    "}\n",
    "\n",
    "Personaje homer = new Personaje(\"Homero\");\n",
    "homer.Mostrar();\n",
    "\n",
    "Personaje marge = new Personaje(\"Marge\", 100, 20);\n",
    "marge.Mostrar();\n",
    "\n",
    "Casa simpsons = new Casa(100, 100);\n",
    "\n",
    "homer.Residencia = simpsons;\n",
    "marge.Residencia = simpsons;\n",
    "\n",
    "homer.Mostrar();\n",
    "marge.Mostrar();\n",
    "\n"
   ]
  },
  {
   "cell_type": "markdown",
   "metadata": {},
   "source": [
    "Obviamente no le asignamos un hogar a los personajes por lo tanto aparece vacio...\n",
    "\n",
    "No hay un ctor que nos obligue a asociar una residencia con un personaje\n",
    "\n",
    "Cuando creamos nuevos objetos...cuantas maneras existen de hacerlo? \n",
    "\n",
    "Como podriamos crear algunos objetos con valores iniciales opcionales u obligatorios. Por ejemplo en estos casos donde no hay una residencia pero seria bueno que la tuviera.\n",
    "\n",
    "El uso de llaves luego de la llamada al ctor se llama **OBJECT INITIALIZER**\n"
   ]
  },
  {
   "cell_type": "code",
   "execution_count": null,
   "metadata": {
    "dotnet_interactive": {
     "language": "csharp"
    },
    "vscode": {
     "languageId": "dotnet-interactive.csharp"
    }
   },
   "outputs": [],
   "source": [
    "Personaje bart = new Personaje(\"Bart\");\n",
    "bart.Residencia = simpsons;\n",
    "\n",
    "bart.Mostrar();\n",
    "\n",
    "//  con object initializers podemos \"simular\" un ctor que tenga como parametro Residencia\n",
    "Personaje lisa = new Personaje(\"Lisa\") { Residencia = simpsons };\n",
    "lisa.Mostrar();"
   ]
  },
  {
   "cell_type": "markdown",
   "metadata": {},
   "source": [
    "El object initializer solo nos deja setear propiedades/campos a los que tengamos acceso ya que desde el punto de vista del codigo equivalente es similar a setear la propiedad en una linea siguiente (como vimos en el primer caso)\n",
    "\n",
    "Sin embargo a partir de C#9 tenemos la posibilidad de crear las llamadas \"propiedades de solo inicializacion\" que serian como propiedades de solo lectura (no tienen set) pero en cambio tienen un acceso **init** que deja usar la propiedad para escritura solo en el momento de la construccion **Y TAMBIEN CUANDO USAMOS UN OBJECT INITIALIZER**"
   ]
  },
  {
   "cell_type": "code",
   "execution_count": null,
   "metadata": {
    "dotnet_interactive": {
     "language": "csharp"
    },
    "vscode": {
     "languageId": "dotnet-interactive.csharp"
    }
   },
   "outputs": [],
   "source": [
    "public class Vehiculo\n",
    "{\n",
    "  public int X {get; init;}\n",
    "  public int Y {get; init;}\n",
    "\n",
    "  public Vehiculo() {}\n",
    "  public Vehiculo(int x, int y) { X = x; Y = y; }\n",
    "\n",
    "  //  no podemos implementar el metodo Mover porque X y Y son inmutables\n",
    "  //\n",
    "  // public void Mover(int x, int y)\n",
    "  // {\n",
    "  //   X = x; Y = y;\n",
    "  // }\n",
    "}\n",
    "\n",
    "//  observar que Y se setea en el ctor y ademas en el inicializador sin problemas\n",
    "//\n",
    "Vehiculo auto = new Vehiculo(10, 10) { Y = 20};\n",
    "\n",
    "//  Y se setea solamente en el inicializador\n",
    "//\n",
    "Vehiculo moto = new Vehiculo() {Y = 100};\n",
    "\n",
    "auto.Display();\n",
    "moto.Display();\n",
    "\n",
    "//  ERROR DE COMPILACION\n",
    "//  auto.Y = 100;   "
   ]
  },
  {
   "cell_type": "markdown",
   "metadata": {},
   "source": [
    "Un ejemplo bastante real seria tener una lista de items los que necesitamos mostrar en pantalla. Esos items pueden ser personajes, casas, vehiculos...etc\n",
    "\n",
    "Como armamos una lista que \"mezcle\" todos estos tipos aparentemente distintos?\n",
    "\n",
    "Una opcion (burda) es pensar que, como todo es un objeto, directamente crear una lista de objetos y listo! Sin embargo si estamos en un programa que manipula items del juego, mas adecuado seria usar la minima expresion que corresponda a nuestro dominio, o sea **ItemJuego**"
   ]
  },
  {
   "cell_type": "code",
   "execution_count": null,
   "metadata": {
    "dotnet_interactive": {
     "language": "csharp"
    },
    "vscode": {
     "languageId": "dotnet-interactive.csharp"
    }
   },
   "outputs": [],
   "source": [
    "List<ItemJuego> items = new List<ItemJuego>();\n",
    "\n",
    "items.Add(new Personaje(\"Homero\"));\n",
    "items.Add(new Casa(200, 30));\n",
    "items.Add(new Personaje(\"Marge\", 50, 50));\n",
    "\n",
    "\n",
    "foreach (ItemJuego it in items)\n",
    "  it.Mostrar();"
   ]
  },
  {
   "cell_type": "markdown",
   "metadata": {},
   "source": [
    "Como estamos en una jerarquia, cualquier clase derivada puede convertirse en su clase base **IMPLICITAMENTE**\n",
    "\n",
    "Lo opuesto, como vimos en el caso original de casting, no es cierto. Por ejemplo supongamos que queremos agregar al nombre de cada personaje un ID. Sabemos ItemJuego no tiene una propiedad Nombre, por lo que intentamos un casting:"
   ]
  },
  {
   "cell_type": "code",
   "execution_count": null,
   "metadata": {
    "dotnet_interactive": {
     "language": "csharp"
    },
    "vscode": {
     "languageId": "dotnet-interactive.csharp"
    }
   },
   "outputs": [],
   "source": [
    "foreach (ItemJuego it in items)\n",
    "{\n",
    "  Personaje p = (Personaje)it;\n",
    "  p.Nombre = $\"{p.Nombre}-{Guid.NewGuid()}\";\n",
    "}"
   ]
  },
  {
   "cell_type": "markdown",
   "metadata": {},
   "source": [
    "La manera segura es usar los operadores **is** o **as**"
   ]
  },
  {
   "cell_type": "code",
   "execution_count": null,
   "metadata": {
    "dotnet_interactive": {
     "language": "csharp"
    },
    "vscode": {
     "languageId": "dotnet-interactive.csharp"
    }
   },
   "outputs": [],
   "source": [
    "// foreach (ItemJuego it in items)\n",
    "// {\n",
    "//   Personaje p = it as Personaje;\n",
    "\n",
    "//   if (p != null)\n",
    "//     p.Nombre = $\"{p.Nombre}-{Guid.NewGuid()}\";\n",
    "// }\n",
    "\n",
    "// foreach (ItemJuego it in items)\n",
    "//   it.Mostrar();\n",
    "\n",
    "foreach (ItemJuego it in items)\n",
    "{\n",
    "  if (it is Personaje p)\n",
    "  {\n",
    "    //  Personaje p = (Personaje)it;\n",
    "    p.Nombre = $\"{p.Nombre}-{Guid.NewGuid()}\";\n",
    "  }\n",
    "}\n",
    "\n",
    "foreach (ItemJuego it in items)\n",
    "  it.Mostrar();\n",
    "  \n"
   ]
  }
 ],
 "metadata": {
  "kernelspec": {
   "display_name": ".NET (C#)",
   "language": "C#",
   "name": ".net-csharp"
  },
  "language_info": {
   "file_extension": ".cs",
   "mimetype": "text/x-csharp",
   "name": "C#",
   "pygments_lexer": "csharp",
   "version": "9.0"
  },
  "orig_nbformat": 4
 },
 "nbformat": 4,
 "nbformat_minor": 2
}

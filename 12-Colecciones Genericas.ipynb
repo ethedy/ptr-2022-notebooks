{
 "cells": [
  {
   "cell_type": "markdown",
   "metadata": {},
   "source": [
    "Que relaciones tienen los personajes entre ellos?\n",
    "\n",
    "Por ejemplo un personaje podria tener hijos, pero no se deberian repetir!"
   ]
  },
  {
   "cell_type": "code",
   "execution_count": null,
   "metadata": {
    "dotnet_interactive": {
     "language": "csharp"
    },
    "vscode": {
     "languageId": "dotnet-interactive.csharp"
    }
   },
   "outputs": [],
   "source": [
    "public abstract class ItemJuego\n",
    "{\n",
    "  public int X {get; protected set;}\n",
    "  public int Y {get; protected set;}\n",
    "  public ItemJuego(int x, int y)\n",
    "  {\n",
    "    X = x; Y = y;\n",
    "  }\n",
    "  public abstract void Mostrar();\n",
    "}\n",
    "\n",
    "public class Casa : ItemJuego\n",
    "{\n",
    "  public Casa() : base(0, 0) {}\n",
    "  public override void Mostrar()\n",
    "  {\n",
    "    Console.WriteLine($\"Casa: {X} {Y}\");\n",
    "  }\n",
    "}\n",
    "\n",
    "public class Personaje : ItemJuego\n",
    "{\n",
    "  public string Nombre {get; set;}\n",
    "  public Casa Residencia {get; set;}\n",
    "  public List<Personaje> Hijos {get;}\n",
    "\n",
    "  public Personaje(string nombre, int x, int y) : base(x, y)\n",
    "  {\n",
    "    Nombre = nombre.Trim();\n",
    "    Hijos = new List<Personaje>();\n",
    "  }\n",
    "  public Personaje(string nombre) : this(nombre, 0, 0) { }\n",
    "  \n",
    "  public override void Mostrar()\n",
    "  {\n",
    "    Console.WriteLine($\"Personaje: [{Nombre}] {X} {Y}\");\n",
    "    if (Residencia != null)\n",
    "    {\n",
    "      Console.Write(\" ==> Vive en\");\n",
    "      Residencia.Mostrar();\n",
    "    }\n",
    "    else\n",
    "      Console.WriteLine(\"HOMELESS!!\");\n",
    "\n",
    "    if (Hijos.Count != 0)\n",
    "    {\n",
    "      Console.WriteLine($\"Hijos de {Nombre}\");\n",
    "\n",
    "      foreach (var h in Hijos)\n",
    "        h.Mostrar();\n",
    "    }\n",
    "  }\n",
    "  public void Mover(int x, int y)\n",
    "  {\n",
    "    X = x; Y = y;    \n",
    "  }\n",
    "}\n",
    "\n",
    "Personaje homer = new (\"Homero\");\n",
    "Personaje marge = new Personaje(\"Marge\");\n",
    "Personaje bart = new Personaje(\"Bart\");\n",
    "homer.Hijos.Add(bart);  //  no tiene set...pero funciona...por que?\n",
    "                        //  esto no se puede hacer ==> homer.Hijos = new List<Personaje>();\n",
    "homer.Hijos.Add(bart);\n",
    "\n",
    "homer.Mostrar();\n"
   ]
  },
  {
   "cell_type": "markdown",
   "metadata": {},
   "source": [
    "Tenemos que encontrar una coleccion que no permita repeticiones!"
   ]
  },
  {
   "cell_type": "code",
   "execution_count": null,
   "metadata": {
    "dotnet_interactive": {
     "language": "csharp"
    },
    "vscode": {
     "languageId": "dotnet-interactive.csharp"
    }
   },
   "outputs": [],
   "source": [
    "public class Personaje : ItemJuego\n",
    "{\n",
    "  public string Nombre {get; set;}\n",
    "  public Casa Residencia {get; set;}\n",
    "  public HashSet<Personaje> Hijos {get;}\n",
    "\n",
    "  public Personaje(string nombre, int x, int y) : base(x, y)\n",
    "  {\n",
    "    Nombre = nombre.Trim();\n",
    "    Hijos = new HashSet<Personaje>();\n",
    "  }\n",
    "  public Personaje(string nombre) : this(nombre, 0, 0) { }\n",
    "  \n",
    "  public override void Mostrar()\n",
    "  {\n",
    "    Console.WriteLine($\"Personaje: [{Nombre}] {X} {Y}\");\n",
    "    if (Residencia != null)\n",
    "    {\n",
    "      Console.Write(\" ==> Vive en\");\n",
    "      Residencia.Mostrar();\n",
    "    }\n",
    "    else\n",
    "      Console.WriteLine(\"HOMELESS!!\");\n",
    "\n",
    "    if (Hijos.Count != 0)\n",
    "    {\n",
    "      Console.WriteLine($\"Hijos de {Nombre}\");\n",
    "\n",
    "      foreach (var h in Hijos)\n",
    "        h.Mostrar();\n",
    "    }\n",
    "  }\n",
    "  public void Mover(int x, int y)\n",
    "  {\n",
    "    X = x; Y = y;    \n",
    "  }\n",
    "}\n",
    "\n",
    "Personaje homer = new (\"Homero\");\n",
    "Personaje marge = new Personaje(\"Marge\");\n",
    "\n",
    "Personaje bart = new Personaje(\"Bart\");\n",
    "Personaje hugo = new Personaje(\"Bart\");\n",
    "\n",
    "homer.Hijos.Add(bart);  //  no tiene set...pero funciona...por que?\n",
    "                        //  esto no se puede hacer ==> homer.Hijos = new List<Personaje>();\n",
    "homer.Hijos.Add(bart);\n",
    "homer.Hijos.Add(hugo);\n",
    "\n",
    "homer.Mostrar();"
   ]
  },
  {
   "cell_type": "markdown",
   "metadata": {},
   "source": [
    "Podemos ver facilmente que si comentamos a hugo el hashset no duplica la entrada de bart ya que ambos son la misma instancia.\n",
    "\n",
    "En cambio hugo es una instancia diferente aunque el contenido es el mismo. Sin embargo la logica que sigue HashSet para calcular el valor hash no alcanza para determinar que los objetos son lo mismo.\n",
    "\n",
    "Ahi veremos que hugo no se agrega en el conjunto!"
   ]
  },
  {
   "cell_type": "code",
   "execution_count": null,
   "metadata": {
    "dotnet_interactive": {
     "language": "csharp"
    },
    "vscode": {
     "languageId": "dotnet-interactive.csharp"
    }
   },
   "outputs": [],
   "source": [
    "public class Personaje : ItemJuego\n",
    "{\n",
    "  public string Nombre {get; set;}\n",
    "  public Casa Residencia {get; set;}\n",
    "  public HashSet<Personaje> Hijos {get;}\n",
    "\n",
    "  public Personaje(string nombre, int x, int y) : base(x, y)\n",
    "  {\n",
    "    Nombre = nombre.Trim();\n",
    "    Hijos = new HashSet<Personaje>();\n",
    "  }\n",
    "  public Personaje(string nombre) : this(nombre, 0, 0) { }\n",
    "  \n",
    "  public override void Mostrar()\n",
    "  {\n",
    "    Console.WriteLine($\"Personaje: [{Nombre}] {X} {Y}\");\n",
    "    if (Residencia != null)\n",
    "    {\n",
    "      Console.Write(\" ==> Vive en\");\n",
    "      Residencia.Mostrar();\n",
    "    }\n",
    "    else\n",
    "      Console.WriteLine(\"HOMELESS!!\");\n",
    "\n",
    "    if (Hijos.Count != 0)\n",
    "    {\n",
    "      Console.WriteLine($\"Hijos de {Nombre}\");\n",
    "\n",
    "      foreach (var h in Hijos)\n",
    "        h.Mostrar();\n",
    "    }\n",
    "  }\n",
    "  public void Mover(int x, int y)\n",
    "  {\n",
    "    X = x; Y = y;    \n",
    "  }\n",
    "\n",
    "  //  para que HashSet me tome dos instancias iguales tengo que sobreescribir no solamente GetHashCode() sino \n",
    "  //  tambien el metodo Equals()\n",
    "  //  Una vez que hago eso, puedo quedarme tranquilo que la igualdad se hara siempre por el contenido de la cadena\n",
    "  //\n",
    "  public override int GetHashCode()\n",
    "  {\n",
    "    int hash = 0;\n",
    "\n",
    "    foreach (char c in Nombre)\n",
    "      hash += c;\n",
    "    Console.WriteLine(hash);\n",
    "    return hash;\n",
    "  }\n",
    "  public override bool Equals(object x)\n",
    "  {\n",
    "    if (x is Personaje otro)\n",
    "      return this.Nombre == otro.Nombre;\n",
    "\n",
    "    return false;\n",
    "  }\n",
    "}\n",
    "\n",
    "Personaje homer = new (\"Homero\");\n",
    "Personaje marge = new Personaje(\"Marge\");\n",
    "Personaje bart = new Personaje(\"Bart\");\n",
    "Personaje hugo = new Personaje(\"Bart\");\n",
    "\n",
    "homer.Hijos.Add(bart);  //  no tiene set...pero funciona...por que?\n",
    "                        //  esto no se puede hacer ==> homer.Hijos = new List<Personaje>();\n",
    "homer.Hijos.Add(hugo);\n",
    "\n",
    "homer.Mostrar();"
   ]
  }
 ],
 "metadata": {
  "kernelspec": {
   "display_name": ".NET (C#)",
   "language": "C#",
   "name": ".net-csharp"
  },
  "language_info": {
   "file_extension": ".cs",
   "mimetype": "text/x-csharp",
   "name": "C#",
   "pygments_lexer": "csharp",
   "version": "9.0"
  },
  "orig_nbformat": 4,
  "vscode": {
   "interpreter": {
    "hash": "9c7f5a96e196bafa8eb4912f7c266e965e894bbfb702cd276d56adfe2d42cab6"
   }
  }
 },
 "nbformat": 4,
 "nbformat_minor": 2
}

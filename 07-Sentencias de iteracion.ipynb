{
 "cells": [
  {
   "cell_type": "markdown",
   "metadata": {},
   "source": [
    "### Sentencias de Iteracion\n",
    "\n",
    "Ahora vamos a dar casos de uso de varias sentencias de iteracion, otras de las bases de cualquier lenguaje de programacion.\n",
    "\n",
    "En C# tenemos cuatro sentencias que permiten realizar loop, bucles, iteraciones o como querramos decirles.\n",
    "\n",
    "- while\n",
    "- do\n",
    "- for\n",
    "- foreach\n",
    "\n",
    "Las primeras tres son de uso general, mientras que **foreach** se aplica solamente a colecciones, como ya veremos.\n",
    "\n",
    "Supongamos que queremos realizar el calculo de la suma de los 100 primeros numeros enteros. El algoritmo es muy simple, tenemos que tener una variable que acumule la suma y otra variable que vaya incrementandose uno por vez, sumando sicho numero con el acumulador.\n",
    "\n",
    "La primera aproximacion la haremos con la sentencia while"
   ]
  },
  {
   "cell_type": "code",
   "execution_count": null,
   "metadata": {
    "dotnet_interactive": {
     "language": "csharp"
    },
    "vscode": {
     "languageId": "dotnet-interactive.csharp"
    }
   },
   "outputs": [],
   "source": [
    "int suma = 0;\n",
    "int numero = 0;\n",
    "\n",
    "while (numero < 100)\n",
    "{\n",
    "  suma += numero;\n",
    "  numero++;\n",
    "}\n",
    "\n",
    "Console.WriteLine(suma);"
   ]
  },
  {
   "cell_type": "markdown",
   "metadata": {},
   "source": [
    "La segunda opcion es la sentencia **for** que ofrece opciones mas estructuradas (secciones de inicializacion condicion de salida, seccion de ajuste de contadores)\n",
    "\n",
    "Tambien tengamos en cuenta que las variables declaradas en el bloque for son accesibles dentro del bloque unicamente! (con los notebooks tenemos que tener cuidado sobre todo cuando usamos nombres de variables similares en el mismo libro)"
   ]
  },
  {
   "cell_type": "code",
   "execution_count": null,
   "metadata": {
    "dotnet_interactive": {
     "language": "csharp"
    },
    "vscode": {
     "languageId": "dotnet-interactive.csharp"
    }
   },
   "outputs": [],
   "source": [
    "int suma = 0;\n",
    "\n",
    "for (int numero = 0; numero < 100 ; numero++)\n",
    "{\n",
    "  suma += numero;\n",
    "}\n",
    "\n",
    "Console.WriteLine(suma);"
   ]
  },
  {
   "cell_type": "markdown",
   "metadata": {},
   "source": [
    "La ultima opcion es parecida al while pero en este caso, la condicion de salida se evalua al final de cada ciclo, y no al inicio.\n",
    "\n",
    "Con esto se asegura que el ciclo se ejecuta al menos una vez"
   ]
  },
  {
   "cell_type": "code",
   "execution_count": null,
   "metadata": {
    "dotnet_interactive": {
     "language": "csharp"
    },
    "vscode": {
     "languageId": "dotnet-interactive.csharp"
    }
   },
   "outputs": [],
   "source": [
    "int suma = 0;\n",
    "int numero = 0;\n",
    "\n",
    "do\n",
    "{\n",
    "  suma += numero;\n",
    "  numero++;\n",
    "} while (numero < 100);\n",
    "\n",
    "Console.WriteLine(suma);\n"
   ]
  },
  {
   "cell_type": "markdown",
   "metadata": {},
   "source": [
    "Supongamos que por alguna razon no queremos que la suma total supere 3000\n",
    "\n",
    "Para salir de un loop de manera estructurada usaremos la palabra clave **break**"
   ]
  },
  {
   "cell_type": "code",
   "execution_count": null,
   "metadata": {
    "dotnet_interactive": {
     "language": "csharp"
    },
    "vscode": {
     "languageId": "dotnet-interactive.csharp"
    }
   },
   "outputs": [],
   "source": [
    "int suma = 0;\n",
    "int numero = 0;\n",
    "\n",
    "while (numero < 100)\n",
    "{\n",
    "  if (suma + numero >= 3000)\n",
    "  {\n",
    "    Console.WriteLine($\"numero: {numero}\");\n",
    "    break;\n",
    "  }\n",
    "  suma += numero;\n",
    "  numero++;\n",
    "}\n",
    "\n",
    "Console.WriteLine(suma);"
   ]
  },
  {
   "cell_type": "markdown",
   "metadata": {},
   "source": [
    "Ahora supongamos otro escenario, que solo queremos sumar los numeros que sean pares.\n",
    "\n",
    "Obviamente podemos poner una condicion previa a la suma y sera mucho mas facil, pero para probar la sentencia **continue** nos viene mejor hacerlo de otra manera\n"
   ]
  },
  {
   "cell_type": "code",
   "execution_count": null,
   "metadata": {
    "dotnet_interactive": {
     "language": "csharp"
    },
    "vscode": {
     "languageId": "dotnet-interactive.csharp"
    }
   },
   "outputs": [],
   "source": [
    "int suma = 0;\n",
    "int numero = 0;\n",
    "\n",
    "while (numero < 100)\n",
    "{\n",
    "  numero++;\n",
    "\n",
    "  if (numero %2 != 0)\n",
    "    continue;\n",
    "\n",
    "  Console.Write($\" {numero}\");\n",
    "  suma += numero;\n",
    "}\n",
    "\n",
    "Console.WriteLine($\"\\n{suma}\");"
   ]
  },
  {
   "cell_type": "markdown",
   "metadata": {},
   "source": []
  }
 ],
 "metadata": {
  "kernelspec": {
   "display_name": ".NET (C#)",
   "language": "C#",
   "name": ".net-csharp"
  },
  "language_info": {
   "file_extension": ".cs",
   "mimetype": "text/x-csharp",
   "name": "C#",
   "pygments_lexer": "csharp",
   "version": "9.0"
  },
  "orig_nbformat": 4
 },
 "nbformat": 4,
 "nbformat_minor": 2
}

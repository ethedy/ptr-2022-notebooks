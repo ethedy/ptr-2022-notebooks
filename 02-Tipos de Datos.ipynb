{
 "cells": [
  {
   "cell_type": "markdown",
   "metadata": {},
   "source": [
    "### Variables y Tipos de Datos en C#\n",
    "\n",
    "El tipo de una variable especifica la \"forma\" que tendra la misma en memoria, es decir su tamaño y su disposicion.\n",
    "Por ejemplo, puede haber variables simples como un numero entero que se representen directamente en memoria (convertidos a binario), pero tambien habra otras mas  como el tipo **Complex** que contiene partes independientes cuya disposicion en memoria no seria tan directa.\n",
    "\n",
    "Queremos representar el valor 20 y guardarlo en una variable entera llamada numero\n",
    "\n",
    "Cuando declaramos la variable, se reserva memoria pero la misma contiene \"basura\" (pensemos que la memoria se usa para muchos procesos, y esta memoria podria contener datos de un proceso previo y por supuesto no tenemos idea de lo que puede representar)\n",
    "\n",
    "<pre>\n",
    "                7                    0  \n",
    "              +-------------------------+\n",
    "  numero -->  | 1  0  1  1  0  1  0  0  |\n",
    "              .-------------------------.\n",
    "              | 0  0  0  1  0  0  0  1  |\n",
    "              .-------------------------.\n",
    "              | 0  0  1  0  0  0  0  0  |\n",
    "              .-------------------------.\n",
    "              | 1  0  0  0  0  0  1  0  |\n",
    "              +-------------------------+\n",
    "</pre>              \n",
    "\n",
    "Aca vemos que la memoria a la que apunta numero contiene el valor binario (la forma de leerlo es desde el ultimo lugar hacia el primero)\n",
    "\n",
    "1000_0010_0010_0000_0001_0001_1011_0100\n",
    "\n",
    "Sin importar el numero que represente, claramente es un valor que no es al menos la representacion de CERO, si asi fuera al menos podriamos confiar en ese contenido.\n",
    "\n",
    "Por eso para asegurarnos que el contenido random se elimina y con esto asegurar que nuestro programa no falle, tenemos que ajustar un valor inicial a esta variable\n",
    "\n",
    "```csharp\n",
    "numero = 20 ;\n",
    "```\n",
    "\n",
    "<pre>\n",
    "                7                    0  \n",
    "              +-------------------------+\n",
    "  numero -->  | 0  0  0  1  0  1  0  0  |\n",
    "              .-------------------------.\n",
    "              | 0  0  0  0  0  0  0  0  |\n",
    "              .-------------------------.\n",
    "              | 0  0  0  0  0  0  0  0  |\n",
    "              .-------------------------.\n",
    "              | 0  0  0  0  0  0  0  0  |\n",
    "              +-------------------------+\n",
    "</pre>              \n",
    "\n",
    "Ahora podemos seguir sin problemas con el resto del codigo.\n",
    "\n",
    "**Aclaracion** para que el compilador \"quede tranquilo\" o sea que no nos de un error de compilacion, no es necesario que el valor que pongamos sea el que vamos a necesitar...podriamos haber hecho que numero fuera igual a 0, 1024 o -12345678, lo unico que busca el compilador es asegurarse que la variable tiene un contenido que nosotros conocemos o que al menos somos responsables de dicho contenido.\n"
   ]
  },
  {
   "cell_type": "code",
   "execution_count": null,
   "metadata": {
    "dotnet_interactive": {
     "language": "csharp"
    },
    "vscode": {
     "languageId": "dotnet-interactive.csharp"
    }
   },
   "outputs": [],
   "source": [
    "//  esto es un comentario!!!\n",
    "//  int es el tipo de datos que se asocia a un numero entero\n",
    "//\n",
    "int numero = 20;\n",
    "\n",
    "Console.WriteLine(numero);\n",
    "\n",
    "Console.WriteLine(int.MaxValue);\n",
    "Console.WriteLine(int.MinValue);\n"
   ]
  },
  {
   "cell_type": "markdown",
   "metadata": {},
   "source": [
    "Deberiamos usar el tipo de dato correcto, dependiendo del problema que tenemos que encarar.\n",
    "\n",
    "#### Ejemplos\n",
    "\n",
    "- para representar la edad de una persona no tiene sentido usar un tipo que permita numeros negativos (evitamos errores)\n",
    "- si necesitamos contar la cantidad de milisegundos desde una fecha tendriamos que pensar en un tipo que represente valores enteros muy grandes, positivos o negativos segun si queremos fechas hacia atras\n",
    "- pera representar numeros irracionales como pi o e necesitamos tipos que admitan decimales pero tal vez que tengan una buena precision (muchos valores exactos luego de la coma)\n",
    "- para valores monetarios, lo mas comun es que se usen numeros con buena precision y que puedan representar decimales sin perdida de exactitud durante las operaciones\n",
    "- para representar distancias, si son astronomicas usariamos un numero con exponente cuyo valor maximo sea posiblemente el mayor, para distancias terrestres podriamos usar algo parecido pero que no tenga tanto alcance"
   ]
  },
  {
   "cell_type": "code",
   "execution_count": null,
   "metadata": {
    "dotnet_interactive": {
     "language": "csharp"
    },
    "vscode": {
     "languageId": "dotnet-interactive.csharp"
    }
   },
   "outputs": [],
   "source": [
    "//  solo valores positivos hasta 255\n",
    "//\n",
    "byte edad = 55;\n",
    "\n",
    "//  -128...+127\n",
    "//\n",
    "sbyte edad1 = -128;\n",
    "\n",
    "Console.WriteLine($\"Tengo {edad} años\");\n",
    "\n",
    "//  01/01/1970 aproximados\n",
    "//  1.639.872.000 segundos\n",
    "//\n",
    "long milisegundosDesde = 1_639_872_000_000;\n",
    "\n",
    "Console.WriteLine($\"Hay {milisegundosDesde:N0} milisegundos desde 01/01/1970\");\n",
    "\n",
    "//  entero largo sin signo --> por ejemplo si siempre contamos tiempos posteriores a la fecha inicial\n",
    "//\n",
    "ulong milisegundosDesde1 = ulong.MaxValue ;\n",
    "\n",
    "Console.WriteLine($\"Hay {milisegundosDesde1:N0} milisegundos desde 01/01/1970\");\n",
    "\n",
    "\n",
    "//  https://docs.microsoft.com/en-us/dotnet/standard/base-types/standard-numeric-format-strings\n",
    "//  \n",
    "//  observar que se muestra con separador de miles como corresponde a nuestra cultura!\n",
    "\n",
    "//  como hacemos para representar solo valores positivos enteros o long? o negativos en byte?\n"
   ]
  },
  {
   "cell_type": "markdown",
   "metadata": {},
   "source": [
    "Tenemos 3 tipos de datos con los que podemos representar valores decimales\n",
    "\n",
    "- decimal - 16 bytes (128 bits)\n",
    "- float - 4 bytes (32 bits)\n",
    "- double - 8 bytes (64 bits)\n",
    "\n",
    "Las diferencias son los rangos de valores que podemos almacenar y tambien el tipo de representacion si se hace con exponente o sin exponente\n",
    "\n",
    "Como basicamente los 3 numeros se representan de la misma manera, el compilador no puede entender a que tipo nos estamos refiriendo si escribimos 1.23 por lo tanto asume que es **double**\n",
    "\n",
    "Si queremos forzar a que el valor sea float o decimal tenemos que usar sufijos"
   ]
  },
  {
   "cell_type": "code",
   "execution_count": null,
   "metadata": {
    "dotnet_interactive": {
     "language": "csharp"
    },
    "vscode": {
     "languageId": "dotnet-interactive.csharp"
    }
   },
   "outputs": [],
   "source": [
    "decimal pi = 3.141592654m;\n",
    "\n",
    "float pi_float = 3.141592654F;    //  observar que en el resultado el valor ya es inexacto\n",
    "\n",
    "double pi_double = 3.141592654;\n",
    "\n",
    "Console.WriteLine($\"Valor de PI = {pi} {pi_float} {pi_double}\");\n",
    "\n",
    "decimal maximo = decimal.MaxValue;\n",
    "\n",
    "Console.WriteLine($\"{maximo:N0}\");\n",
    "\n",
    "//  79228162514264337593543950335 es el max value de decimal\n",
    "//  a ver como se representa en double\n",
    "//\n",
    "double xx = .79228162514264337593543950335E+28;\n",
    "\n",
    "Console.WriteLine(xx);\n",
    "\n",
    "//  observar que la coma decimal se coloca como corresponde a nuestra cultura\n",
    "\n",
    "float distanciaSol = 299_985 * 8 * 60 ;\n",
    "\n",
    "Console.WriteLine($\"La distancia al sol en kilometros: {distanciaSol:E}\");\n",
    "\n"
   ]
  },
  {
   "cell_type": "markdown",
   "metadata": {},
   "source": [
    "En general de los tipos que representan valores podemos establecer cuales son los maximos y minimos que podemos representar\n",
    "\n",
    "Vamos a probar algunos que representan numeros\n",
    "\n",
    "Tambien veremos que algunas operaciones con double/float dan diferentes resultados que si las hacemos con valores enteros"
   ]
  },
  {
   "cell_type": "code",
   "execution_count": null,
   "metadata": {
    "dotnet_interactive": {
     "language": "csharp"
    },
    "vscode": {
     "languageId": "dotnet-interactive.csharp"
    }
   },
   "outputs": [],
   "source": [
    "//  maximo double\n",
    "//\n",
    "//  double pepe = 1.23;\n",
    "//\n",
    "//  ERROR porque MinValue se aplica al TIPO double y no a la INSTANCIA pepe\n",
    "//\n",
    "//  Console.WriteLine($\"El valor maximo para double es {pepe.MinValue}\");\n",
    "\n",
    "Console.WriteLine($\"El valor maximo para double es {double.MinValue}\");\n",
    "Console.WriteLine($\"El valor maximo para double es {double.MaxValue}\");\n",
    "\n",
    "//  probar otros valores y valores especiales\n",
    "//\n",
    "Console.WriteLine($\"Que valor resultara?? {double.MaxValue * double.MaxValue}\");\n",
    "Console.WriteLine($\"Que valor resultara?? {double.PositiveInfinity / double.PositiveInfinity}\");\n",
    "Console.WriteLine($\"Que valor resultara?? {double.MaxValue / 0}\");\n",
    "\n",
    "//  probar valores integrales\n",
    "//  \n",
    "int cero = 0;\n",
    "Console.WriteLine($\"Que valor resultara?? {12 / cero}\");\n"
   ]
  },
  {
   "cell_type": "markdown",
   "metadata": {},
   "source": [
    "<div \n",
    "  style=\"position: relative; padding: 1rem 1rem; margin-bottom: 1rem;\n",
    "         border: 1px solid transparent; border-radius: 0.25rem; color: #055160;\n",
    "         background-color: #cff4fc; border-color: #b6effb; width: 70%\">\n",
    "  La division por cero en el caso de double/float no produce un error ya que la representacion binaria de estos tipos permiten expresar valores especiales como +/- infinito o una operacion indefinida con <strong>NaN</strong>\n",
    "</div>"
   ]
  },
  {
   "cell_type": "markdown",
   "metadata": {},
   "source": [
    "Algunas operaciones con valores enteros pueden ser engañosas\n",
    "\n",
    "Si sumamos dos valores muy grandes que no \"entran\" en la variable que recibe el resultado vamos a tener una fuente segura de errores\n"
   ]
  },
  {
   "cell_type": "code",
   "execution_count": null,
   "metadata": {
    "dotnet_interactive": {
     "language": "csharp"
    },
    "vscode": {
     "languageId": "dotnet-interactive.csharp"
    }
   },
   "outputs": [],
   "source": [
    "//  la palabra clave int es un ALIAS en C# de System.Int32 \n",
    "//  pero el tipo REAL que existe en la libreria de NET es System.Int32\n",
    "//\n",
    "int numeroGrande = System.Int32.MaxValue;\n",
    "long resultado = numeroGrande + numeroGrande;\n",
    "\n",
    "Console.WriteLine($\"El resultado es {resultado}\");\n",
    "\n",
    "//  esto se denomina overflow (una operacion que deberia ser positiva da resultados negativos)\n",
    "//  puede ocurrir sin que nos demos cuenta\n",
    "\n",
    "long resultadoChequeado =checked(numeroGrande + numeroGrande);\n",
    "\n",
    "Console.WriteLine($\"El resultado chequeado es {resultadoChequeado}\");\n",
    "\n",
    "checked \n",
    "{ \n",
    "  int resultadoChequeado = unchecked(numeroGrande + numeroGrande) ;\n",
    "\n",
    "  Console.WriteLine($\"El resultado no-chequeado es {resultadoChequeado}\");\n",
    "\n",
    "  long xxx = numeroGrande * 10;\n",
    "\n",
    "  Console.WriteLine($\"El resultado chequeado es {xxx}\");\n",
    "}\n",
    "\n",
    "//  aca vemos una declaracion de variable en un bloque {}\n",
    "//  un bloque implica un limite en la declaracion de variables, por ejemplo\n",
    "//  y en este caso un limite de VALIDACION de overflow\n"
   ]
  },
  {
   "cell_type": "markdown",
   "metadata": {},
   "source": [
    "Hay dos tipos de datos basicos que son **char** y **boolean**. Del segundo hablaremos mas adelante, pero por ahora digamos que una variable boolean solo admite dos valores, true y false. Estos valores en general van a representar el estado final de un proceso o tarea, o cualquier condicion logica como por ejemplo \"el usuario es mayor de edad?\"\n",
    "\n",
    "Respecto a char, representa un unico caracter Unicode y se representa por comillas simples. Podemos representar cualquier caracter del standard, incluso los extendidos como los emojis."
   ]
  },
  {
   "cell_type": "code",
   "execution_count": 1,
   "metadata": {
    "dotnet_interactive": {
     "language": "csharp"
    },
    "vscode": {
     "languageId": "dotnet-interactive.csharp"
    }
   },
   "outputs": [
    {
     "name": "stdout",
     "output_type": "stream",
     "text": [
      "E\r\n",
      "E\r\n",
      "ၥ\r\n",
      "⚡\r\n",
      "🟢\r\n",
      "😉\r\n"
     ]
    }
   ],
   "source": [
    "char letraE = 'E';        //  caracter normal\n",
    "\n",
    "char letraE2 = '\\x45';    //  si es en hexadecimal\n",
    "\n",
    "char letraX = '\\u1065';   //  valor unicode\n",
    "\n",
    "char emoji = '\\u26a1';   //  valor unicode\n",
    "\n",
    "\n",
    "Console.WriteLine(letraE);\n",
    "Console.WriteLine(letraE2);\n",
    "Console.WriteLine(letraX);\n",
    "Console.WriteLine(emoji);\n",
    "\n",
    "//  hay emojis que no \"entran\" en un char...\n",
    "//  consultar --> emojipedia\n",
    "//\n",
    "Console.WriteLine(char.ConvertFromUtf32 (0x1F7E2));\n",
    "Console.WriteLine(System.Char.ConvertFromUtf32 (0x1F609));\n",
    " "
   ]
  },
  {
   "cell_type": "markdown",
   "metadata": {},
   "source": [
    "Investigamos algunos tamaños de tipos de datos en .NET, el tamaño que nos aparece esta dato en BYTES\n",
    "\n",
    "Podemos ver que el tipo **char** ocupa 2 bytes (16 bits) o sea que podemos representar 65536 caracteres, lo que pareceria suficiente para Unicode (UTF-16) sin embargo hay bloques de codigos Unicode que no pueden representarse con 16 bits y necesitan de 32 (UTF-32) por ejemplo algunos de los emojis que vimos en el ejemplo previo."
   ]
  },
  {
   "cell_type": "code",
   "execution_count": null,
   "metadata": {
    "dotnet_interactive": {
     "language": "csharp"
    },
    "vscode": {
     "languageId": "dotnet-interactive.csharp"
    }
   },
   "outputs": [],
   "source": [
    "\n",
    "Console.WriteLine($\"{sizeof(long)}\");\n",
    "\n",
    "Console.WriteLine($\"{sizeof(decimal)}\");\n",
    "\n",
    "Console.WriteLine($\"{sizeof(char)}\");\n"
   ]
  }
 ],
 "metadata": {
  "kernelspec": {
   "display_name": ".NET (C#)",
   "language": "C#",
   "name": ".net-csharp"
  },
  "language_info": {
   "name": "C#"
  }
 },
 "nbformat": 4,
 "nbformat_minor": 2
}

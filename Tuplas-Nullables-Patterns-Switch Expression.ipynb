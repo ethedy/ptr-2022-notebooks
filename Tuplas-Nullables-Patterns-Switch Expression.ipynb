{
 "cells": [
  {
   "cell_type": "code",
   "execution_count": null,
   "metadata": {
    "dotnet_interactive": {
     "language": "csharp"
    },
    "vscode": {
     "languageId": "dotnet-interactive.csharp"
    }
   },
   "outputs": [],
   "source": []
  },
  {
   "cell_type": "code",
   "execution_count": null,
   "metadata": {
    "dotnet_interactive": {
     "language": "csharp"
    },
    "vscode": {
     "languageId": "dotnet-interactive.csharp"
    }
   },
   "outputs": [
    {
     "name": "stdout",
     "output_type": "stream",
     "text": [
      "20\r\n",
      "30\r\n"
     ]
    }
   ],
   "source": [
    "\n",
    "int? enteroNull = null;\n",
    "int x = 10;\n",
    "\n",
    "enteroNull = 20;\n",
    "\n",
    "if (enteroNull.HasValue)\n",
    "  x = x + enteroNull.Value;\n",
    "\n",
    "Console.WriteLine(enteroNull);\n",
    "Console.WriteLine(x);\n",
    "\n"
   ]
  },
  {
   "cell_type": "code",
   "execution_count": null,
   "metadata": {
    "dotnet_interactive": {
     "language": "csharp"
    },
    "vscode": {
     "languageId": "dotnet-interactive.csharp"
    }
   },
   "outputs": [
    {
     "data": {
      "text/html": [
       "<div class=\"dni-plaintext\">320</div>"
      ]
     },
     "metadata": {},
     "output_type": "display_data"
    },
    {
     "data": {
      "text/html": [
       "<div class=\"dni-plaintext\">320</div>"
      ]
     },
     "metadata": {},
     "output_type": "display_data"
    },
    {
     "data": {
      "text/html": [
       "<span><a href=\"https://docs.microsoft.com/dotnet/api/system.boolean?view=net-5.0\">System.Boolean</a></span>"
      ]
     },
     "metadata": {},
     "output_type": "display_data"
    },
    {
     "data": {
      "text/html": [
       "<div class=\"dni-plaintext\">100</div>"
      ]
     },
     "metadata": {},
     "output_type": "display_data"
    }
   ],
   "source": [
    "string s = \"erewrwewewewewewweweqweqwewqeqwe\";\n",
    "List<int> lista;\n",
    "\n",
    "// if (s!= null && s.Length >= 10)\n",
    "//   lista = new List<int>(s.Length * 10);\n",
    "// else\n",
    "//   lista = new List<int>(100);\n",
    "\n",
    "lista = (s!= null && s.Length >= 10) \n",
    "          ? new List<int>(s.Length * 10) \n",
    "          : new List<int>(100);\n",
    "\n",
    "lista.Capacity.Display();\n",
    "\n",
    "lista = new List<int>((s!= null && s.Length >= 10) ? s.Length * 10 : 100);\n",
    "\n",
    "lista.Capacity.Display();\n",
    "\n",
    "s = null;\n",
    "var x = (s?.Length >= 10);\n",
    "\n",
    "lista = new List<int>((s?.Length >= 10) ? s.Length * 10 : 100);\n",
    "\n",
    "lista.Capacity.Display();"
   ]
  },
  {
   "cell_type": "code",
   "execution_count": null,
   "metadata": {
    "dotnet_interactive": {
     "language": "csharp"
    },
    "vscode": {
     "languageId": "dotnet-interactive.csharp"
    }
   },
   "outputs": [],
   "source": [
    "int cuenta = 5;\n",
    "float suma = 20.3f;\n",
    "\n",
    "(int, float) resultado = (5, 20.3F);\n",
    "\n",
    "if (resultado == (4, 23))\n",
    "  Console.WriteLine();\n",
    "\n",
    "var resultado1 = (cuenta, suma);\n",
    "\n",
    "resultado1.cuenta.Display();\n",
    "\n",
    "\n",
    "float suma1 = resultado.Item2;\n",
    "\n",
    "var (cuenta2, suma2) = resultado;\n",
    "\n",
    "var (_, suma3) = resultado;\n",
    "\n"
   ]
  },
  {
   "cell_type": "markdown",
   "metadata": {},
   "source": []
  },
  {
   "cell_type": "code",
   "execution_count": null,
   "metadata": {
    "dotnet_interactive": {
     "language": "csharp"
    },
    "vscode": {
     "languageId": "dotnet-interactive.csharp"
    }
   },
   "outputs": [
    {
     "data": {
      "text/plain": [
       "A trabajar!!"
      ]
     },
     "metadata": {},
     "output_type": "display_data"
    }
   ],
   "source": [
    "string texto = DateTime.Now.DayOfWeek switch {\n",
    "  DayOfWeek.Sunday => \"Mañana se trabaja\",\n",
    "  DayOfWeek.Saturday => \"Ayer se trabajó\",\n",
    "  _ => \"A trabajar!!\"\n",
    "};\n",
    "\n",
    "texto.Display();"
   ]
  }
 ],
 "metadata": {
  "kernelspec": {
   "display_name": ".NET (C#)",
   "language": "C#",
   "name": ".net-csharp"
  },
  "language_info": {
   "file_extension": ".cs",
   "mimetype": "text/x-csharp",
   "name": "C#",
   "pygments_lexer": "csharp",
   "version": "9.0"
  },
  "orig_nbformat": 4
 },
 "nbformat": 4,
 "nbformat_minor": 2
}

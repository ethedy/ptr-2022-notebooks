{
 "cells": [
  {
   "cell_type": "markdown",
   "metadata": {},
   "source": [
    "### Sentencia switch\n",
    "\n",
    "Otra de las sentencias que nos permiten seleccionar diferentes alternativas de codigo es la sentencia **switch**\n",
    "\n",
    "La version que vemos ahora es la mas sencilla y la que existe en todos los lenguajes de la rama de C, con mas o menos restricciones segun el lenguaje.\n",
    "\n",
    "En lugar de crear una serie de if...else anidados que pueden resultar poro legibles, usamos una sentencia switch con variantes (**case**) que resultan exclusivas unas de otras. Entonces podemos incluir bloques de codigo que visualmente son mucho mas claros\n",
    "\n",
    "Por ejemplo supongamos que un tenemos una entrada de usuario con una respuesta si/no que el mismo deberia escribir. La entrada es un texto (string)"
   ]
  },
  {
   "cell_type": "code",
   "execution_count": null,
   "metadata": {
    "dotnet_interactive": {
     "language": "csharp"
    },
    "vscode": {
     "languageId": "dotnet-interactive.csharp"
    }
   },
   "outputs": [],
   "source": [
    "string input = \"\";\n",
    "bool respuesta;\n",
    "\n",
    "switch (input)\n",
    "{\n",
    "  case \"SI\":\n",
    "    Console.WriteLine(\"Responde Si\");\n",
    "    respuesta = true;\n",
    "    break;\n",
    "\n",
    "  case \"NO\":\n",
    "    Console.WriteLine(\"Responde No\");\n",
    "    respuesta = false;\n",
    "    break;\n",
    "  \n",
    "  default:\n",
    "    Console.WriteLine(\"Indeterminada\");\n",
    "    respuesta = false;\n",
    "    break;\n",
    "}"
   ]
  },
  {
   "cell_type": "markdown",
   "metadata": {},
   "source": [
    "Notamos que:\n",
    "\n",
    "1. Las llaves son obligatorias en el bloque switch\n",
    "2. Podemos escribir varias sentencias en el case sin necesidad de usar bloques de codigo\n",
    "3. break es obligatorio en todos los casos, incluso en default\n",
    "\n",
    "Podemos manejar mas de una alternativa para los bloques case, por ejemplo:"
   ]
  },
  {
   "cell_type": "code",
   "execution_count": null,
   "metadata": {
    "dotnet_interactive": {
     "language": "csharp"
    },
    "vscode": {
     "languageId": "dotnet-interactive.csharp"
    }
   },
   "outputs": [],
   "source": [
    "string input = \"\";\n",
    "bool respuesta;\n",
    "\n",
    "switch (input)\n",
    "{\n",
    "  case \"SI\":\n",
    "  case \"OK\":\n",
    "  case \"CORRECTO\":\n",
    "    Console.WriteLine(\"Responde Si\");\n",
    "    respuesta = true;\n",
    "    break;\n",
    "\n",
    "  case \"NO\":\n",
    "  case \"INCORRECTO\":\n",
    "    Console.WriteLine(\"Responde No\");\n",
    "    respuesta = false;\n",
    "    break;\n",
    "  \n",
    "  default:\n",
    "    Console.WriteLine(\"Indeterminada\");\n",
    "    respuesta = false;\n",
    "    break;\n",
    "}"
   ]
  },
  {
   "cell_type": "markdown",
   "metadata": {},
   "source": [
    "Es un ejemplo sencillo, pero vale. Podemos \"apilar\" tantos case como deseemos, por supuesto la consistencia de lo que hacemos en el bloque dependera de nosotros.\n",
    "\n",
    "Algo que no se puede hacer (o al menos no como pareceria a simple vista) es declarar variables que tengan alcance dentro del case. Efectivamente, al no tener un bloque tendran el alcance del switch...\n",
    "\n",
    "Aclaro que este codigo es raro y dificilmente necesitariamos algo asi, pero si declaramos la variable en el case del NO, podemos usarla en el default, siempre que la inicialicemos... pero no podemos usarla en el case del SI ya que no esta declarada...\n",
    "\n",
    "Pensar en la linea de ejecucion del codigo...si entramos por default nunca se ejecuta el case NO, sin embargo podemos usar la declaracion de x...esto es porque la declaracion no es una sentencia ejecutable (por mas que visualmente pareciera que esta todo junto...)\n",
    "\n",
    "x queda declarada a partir del codigo del case NO pero solo se inicializa con 0 si el case NO se ejecuta"
   ]
  },
  {
   "cell_type": "code",
   "execution_count": null,
   "metadata": {
    "dotnet_interactive": {
     "language": "csharp"
    },
    "vscode": {
     "languageId": "dotnet-interactive.csharp"
    }
   },
   "outputs": [],
   "source": [
    "string input = \"NOP\";\n",
    "bool respuesta;\n",
    "\n",
    "switch (input)\n",
    "{\n",
    "  case \"SI\":\n",
    "  case \"OK\":\n",
    "  case \"CORRECTO\":\n",
    "    Console.WriteLine($\"Responde Si\");\n",
    "    respuesta = true;\n",
    "    break;\n",
    "\n",
    "  case \"NO\":\n",
    "  case \"INCORRECTO\":\n",
    "    int x = 0;\n",
    "\n",
    "    Console.WriteLine($\"Responde No {x}\");\n",
    "    respuesta = false;\n",
    "    break;\n",
    "  \n",
    "  default:\n",
    "    x = 20;\n",
    "    Console.WriteLine($\"Indeterminada {x}\");\n",
    "    respuesta = false;\n",
    "    break;\n",
    "}"
   ]
  },
  {
   "cell_type": "markdown",
   "metadata": {},
   "source": [
    "Si tuvieramos que usar variables locales sin ambigüedades, sin casos extremos, deberiamos hacerlo en un bloque, como veremos a continuacion"
   ]
  },
  {
   "cell_type": "code",
   "execution_count": null,
   "metadata": {
    "dotnet_interactive": {
     "language": "csharp"
    },
    "vscode": {
     "languageId": "dotnet-interactive.csharp"
    }
   },
   "outputs": [],
   "source": [
    "string input = \"SI\";\n",
    "bool respuesta;\n",
    "\n",
    "switch (input)\n",
    "{\n",
    "  case \"SI\":\n",
    "  case \"OK\":\n",
    "  case \"CORRECTO\":\n",
    "    {\n",
    "      int x = 10;\n",
    "      Console.WriteLine($\"Responde Si {x}\");\n",
    "      respuesta = true;\n",
    "    }\n",
    "    break;\n",
    "\n",
    "  case \"NO\":\n",
    "  case \"INCORRECTO\":\n",
    "    {\n",
    "      int x = 0;\n",
    "      Console.WriteLine($\"Responde No {x}\");\n",
    "      respuesta = false;\n",
    "    }\n",
    "    break;\n",
    "  \n",
    "  default:\n",
    "    {\n",
    "      int x = 20;\n",
    "      Console.WriteLine($\"Indeterminada {x}\");\n",
    "      respuesta = false;\n",
    "    }\n",
    "    break;\n",
    "}"
   ]
  },
  {
   "cell_type": "markdown",
   "metadata": {},
   "source": [
    "Por supuesto podemos usar una expresion integral para seleccionar. Supongamos que tenemos en una variable entera el resultado de la encuesta del curso (como cuando calificamos con las estrellas de 1 a 5)\n",
    "\n",
    "Queremos realizar diferentes acciones segun este resultado, si es malo/regular haremos una accion, si es bueno/muy bueno otra y si esta en el medio, una distinta:"
   ]
  },
  {
   "cell_type": "code",
   "execution_count": null,
   "metadata": {
    "dotnet_interactive": {
     "language": "csharp"
    },
    "vscode": {
     "languageId": "dotnet-interactive.csharp"
    }
   },
   "outputs": [],
   "source": [
    "int resultadoCurso = 2;\n",
    "\n",
    "switch (resultadoCurso)\n",
    "{\n",
    "  case 1:\n",
    "  case 2:\n",
    "    Console.WriteLine(\"Insultar al instructor\");\n",
    "    break;\n",
    "\n",
    "  case 3:\n",
    "    Console.WriteLine(\"Tomar medidas de mejora\");\n",
    "    break;\n",
    "\n",
    "  case 4:\n",
    "  case 5:\n",
    "    Console.WriteLine(\"Felicitar al instructor\");\n",
    "    break;\n",
    "}"
   ]
  },
  {
   "cell_type": "markdown",
   "metadata": {},
   "source": [
    "El problema aca es que nunca podemos saber mirando los numeros, que es lo que estan representando. Que pasaria si el codigo que convierte estrellas en numeros representa 5 estrellas con el numero 1 (y puede pasar!)\n",
    "\n",
    "Una posibilidad (valida) es declarar constantes que nos digan que MALO = 1 o MUY_BUENO = 1, luego respetar estas constantes siempre...\n",
    "\n",
    "Sin embargo aca tambien puede haber errores:"
   ]
  },
  {
   "cell_type": "code",
   "execution_count": null,
   "metadata": {
    "dotnet_interactive": {
     "language": "csharp"
    },
    "vscode": {
     "languageId": "dotnet-interactive.csharp"
    }
   },
   "outputs": [],
   "source": [
    "const int MALO = 1;\n",
    "const int REGULAR = 2;\n",
    "const int MUY_BUENO = 5;\n",
    "\n",
    "int resultadoCurso = 6;\n",
    "\n",
    "switch (resultadoCurso)\n",
    "{\n",
    "  case MALO:\n",
    "  case REGULAR:\n",
    "    Console.WriteLine(\"Insultar al instructor\");\n",
    "    break;\n",
    "\n",
    "  case MUY_BUENO:\n",
    "    Console.WriteLine(\"Felicitar al instructor\");\n",
    "    break;\n",
    "} "
   ]
  },
  {
   "cell_type": "markdown",
   "metadata": {},
   "source": [
    "Para estos casos es donde empieza a brillar el uso de un tipo de datos llamado **Enum**\n",
    "\n",
    "Los enum son constantes agrupadas en un tipo de dato (que es basicamente un entero) pero que tienen todo el respaldo del \"strong-typing\" de C#, es decir que vamos a tener una seguridad adicional en el caso de que por error se nos ocurra incluir valores que no estan dentro de este rango de valores.\n",
    "\n",
    "Otra caracteristica de los enum es que, si queremos, nos podemos abstraer del valor concreto ya que los valores numericos los asigna el compilador (si queremos!)"
   ]
  },
  {
   "cell_type": "code",
   "execution_count": null,
   "metadata": {
    "dotnet_interactive": {
     "language": "csharp"
    },
    "vscode": {
     "languageId": "dotnet-interactive.csharp"
    }
   },
   "outputs": [],
   "source": [
    "enum ResultadoCurso \n",
    "{\n",
    "  Malo, // = -10,\n",
    "  Regular,\n",
    "  Bueno = -10,\n",
    "  MuyBueno,\n",
    "  Indefinido // = 2 Cuidado!!!\n",
    "}\n",
    "\n",
    "ResultadoCurso resultado = ResultadoCurso.Indefinido;\n",
    "\n",
    "//  probar casting\n",
    "Console.WriteLine($\"{resultado}\");\n",
    "\n",
    "//  probar casting\n",
    "//  resultado = 10;\n",
    "\n",
    "switch (resultado)\n",
    "{\n",
    "  case ResultadoCurso.Malo:\n",
    "  case ResultadoCurso.Regular:\n",
    "    Console.WriteLine(\"Insultar al instructor\");\n",
    "    break;\n",
    "\n",
    "  case ResultadoCurso.Indefinido:\n",
    "    Console.WriteLine(\"Tomar medidas de mejora\");\n",
    "    break;\n",
    "\n",
    "  //  case 10:\n",
    "  case ResultadoCurso.Bueno:\n",
    "  case ResultadoCurso.MuyBueno:\n",
    "    Console.WriteLine(\"Felicitar al instructor\");\n",
    "    break;\n",
    "}\n",
    "\n",
    "System.Enum.GetNames(typeof(ResultadoCurso)).Display();"
   ]
  },
  {
   "cell_type": "markdown",
   "metadata": {},
   "source": [
    "Podemos asignar valores a los diferentes identificadores que forman el enum, pero tenemos que tener mucho cuidado en no repetir (salvo que esta sea nuestra intencion) para que se guarde consistencia. \n",
    "\n",
    "En general los enum representan valores que se excluyen entre si, por lo que no deberia haber repetidos.\n",
    "\n",
    "El uso de enums es una ventaja para leer/interpretar y tambien como una medida de seguridad pero finalmente nada nos impide hacer un casting de enteros y cometer errores! Siempre dependera de nosotros escribir un codigo limpio\n"
   ]
  }
 ],
 "metadata": {
  "kernelspec": {
   "display_name": ".NET (C#)",
   "language": "C#",
   "name": ".net-csharp"
  },
  "language_info": {
   "file_extension": ".cs",
   "mimetype": "text/x-csharp",
   "name": "C#",
   "pygments_lexer": "csharp",
   "version": "9.0"
  },
  "orig_nbformat": 4
 },
 "nbformat": 4,
 "nbformat_minor": 2
}

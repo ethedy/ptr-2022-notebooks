{
 "cells": [
  {
   "cell_type": "markdown",
   "metadata": {},
   "source": [
    "### La Clase Math\n",
    "\n",
    "La clase Math forma parte de la libreria base de NET, contiene las funciones basicas que podemos encontrar en analisis matematico (trigonometricas, logaritmicas...) listas para ser usadas\n",
    "\n",
    "NET no es una plataforma que se destaca por sus posibilidades numericas, esta clase tiene lo basico para empezar, si necesitamos mas potencia deberemos buscarla en paquetes de terceros que ya veremos como descargar"
   ]
  },
  {
   "cell_type": "code",
   "execution_count": null,
   "metadata": {
    "dotnet_interactive": {
     "language": "csharp"
    },
    "vscode": {
     "languageId": "dotnet-interactive.csharp"
    }
   },
   "outputs": [],
   "source": [
    "Console.WriteLine(Math.PI);\n",
    "\n",
    "Console.WriteLine(Math.E);\n",
    "\n",
    "//  Tau es 2 * PI y se usa en fisica/mecanica cuantica\n",
    "//\n",
    "Console.WriteLine(Math.Tau);"
   ]
  },
  {
   "cell_type": "markdown",
   "metadata": {},
   "source": [
    "Observar que el valor de PI es tipo double, no decimal como habiamos visto antes.\n",
    "\n",
    "Los tipos double y float son mucho mas performantes ya que estan implementados en hardware (coprocesador matematico)\n",
    "\n",
    "El tipo decimal esta sintetizado en software y entonces las operaciones que involucran decimales siempre seran mucho mas lentas.\n",
    "\n",
    "Respecto a las funciones no hay muchos misterios, con los nombres podemos saber a que funcion matematica se refiere, sin embargo hay que tener en cuenta que a diferencia de otros lenguajes, la elevacion a una potencia determinada no esta integrada en C# sino que debemos utilizar una funcion especial de Math: Pow()\n",
    "\n",
    "Por ejemplo VB representaba 2 ** 10 --> 2 elevado a la potencia de 10, o tal vez alguno que lo hacia como \n",
    "2 ^ 10\n",
    " \n",
    "Observar tambien que Math es similar a Console en el sentido que no podemos crear una variable tipo Math!\n",
    "\n"
   ]
  },
  {
   "cell_type": "code",
   "execution_count": null,
   "metadata": {
    "dotnet_interactive": {
     "language": "csharp"
    },
    "vscode": {
     "languageId": "dotnet-interactive.csharp"
    }
   },
   "outputs": [],
   "source": [
    "//  \n",
    "double _2_a_la_10 = Math.Pow(2, 10);\n",
    "\n",
    "Console.WriteLine(_2_a_la_10);\n",
    "\n",
    "double @double = Math.Pow(Math.E, Math.PI);\n",
    "\n",
    "Console.WriteLine(@double);"
   ]
  },
  {
   "cell_type": "markdown",
   "metadata": {},
   "source": [
    "La clase Math tiene funciones, constantes... de tipo double\n",
    "\n",
    "Si queremos trabajar con float deberiamos usar **MathF**, esta clase tiene las mismas funciones que Math pero aplicadas a tipo de datos **float**\n",
    "\n",
    "Si no vamos a usar matematica de precision doble, seria muy conveniente usar esta clase ya que nos ahorrara tiempo y espacio (para convertir float a double por ejemplo hay que \"perder tiempo\")\n"
   ]
  },
  {
   "cell_type": "code",
   "execution_count": null,
   "metadata": {
    "dotnet_interactive": {
     "language": "csharp"
    },
    "vscode": {
     "languageId": "dotnet-interactive.csharp"
    }
   },
   "outputs": [],
   "source": [
    "//  \n",
    "float _2_a_la_10 = MathF.Pow(2, 10);\n",
    "\n",
    "Console.WriteLine(_2_a_la_10);\n",
    "\n",
    "float @float = MathF.Pow(MathF.E, MathF.PI);\n",
    "\n",
    "Console.WriteLine(@float);"
   ]
  }
 ],
 "metadata": {
  "kernelspec": {
   "display_name": ".NET (C#)",
   "language": "C#",
   "name": ".net-csharp"
  },
  "language_info": {
   "file_extension": ".cs",
   "mimetype": "text/x-csharp",
   "name": "C#",
   "pygments_lexer": "csharp",
   "version": "9.0"
  },
  "orig_nbformat": 4,
  "vscode": {
   "interpreter": {
    "hash": "9c7f5a96e196bafa8eb4912f7c266e965e894bbfb702cd276d56adfe2d42cab6"
   }
  }
 },
 "nbformat": 4,
 "nbformat_minor": 2
}

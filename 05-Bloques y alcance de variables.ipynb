{
 "cells": [
  {
   "cell_type": "markdown",
   "metadata": {},
   "source": [
    "### Bloques y alcance de variables\n",
    "\n",
    "Las sentencias normalmente no se escriben \"sueltas\" sino que son parte de funciones o metodos.\n",
    "\n",
    "Sin embargo antes de entrar en la definicion de lo que es una funcion y como declararla vamos a hablar de los bloques de sentencias.\n",
    "\n",
    "Un bloque es simplemente una secuencia de sentencias encerrada entre llaves.\n"
   ]
  },
  {
   "cell_type": "code",
   "execution_count": null,
   "metadata": {
    "dotnet_interactive": {
     "language": "csharp"
    },
    "vscode": {
     "languageId": "dotnet-interactive.csharp"
    }
   },
   "outputs": [],
   "source": [
    "//  inicio del bloque\n",
    "{\n",
    "  int x = 100;\n",
    "\n",
    "  x += 60;\n",
    "\n",
    "  Console.WriteLine(x);\n",
    "}\n",
    "//  fin del bloque"
   ]
  },
  {
   "cell_type": "markdown",
   "metadata": {},
   "source": [
    "Un bloque determina lo que se conoce como **alcance** de una variable.\n",
    "\n",
    "Cuando declaramos una variable dentro de un bloque, dicha variable es **local** al mismo y no es posible utilizarla fuera del bloque donde se definio.\n",
    "\n",
    "Aun mas drastico: cuando el bloque donde la variable se declara/define termina, la memoria que ocupaba dicha variable queda liberada para ser recuperada por el CLR en un proceso que se denomina *Garbage Collection* \n",
    "\n",
    "Este proceso sera diferente segun la variable sea un valor (como un entero o un decimal) o una referencia (un string por ejemplo)"
   ]
  },
  {
   "cell_type": "code",
   "execution_count": null,
   "metadata": {
    "dotnet_interactive": {
     "language": "csharp"
    },
    "vscode": {
     "languageId": "dotnet-interactive.csharp"
    }
   },
   "outputs": [],
   "source": [
    "int y = 10; //  variable externa al bloque, visible desde ambos lugares\n",
    "\n",
    "{\n",
    "  int x = 20;   //  variable \"local\" al bloque, solo visible dentro del bloque\n",
    "\n",
    "  Console.WriteLine(x);\n",
    "  Console.WriteLine(++y);\n",
    "}   //  x --> como es un VALOR la memoria se \"recupera\" automaticamente no hay GC\n",
    "\n",
    "//  Console.WriteLine(x); ERROR\n",
    "Console.WriteLine(++y);\n",
    "\n",
    "{\n",
    "  string x = \"Hola, Mundo!!!\";  //  esta variable x no tiene nada que ver con la otra!!\n",
    "\n",
    "  Console.WriteLine(x);\n",
    "  Console.WriteLine(++y);\n",
    "}   //  x --> la memoria que ocupa esta variable queda liberada para el GC\n",
    "\n",
    "Console.WriteLine(++y);"
   ]
  }
 ],
 "metadata": {
  "kernelspec": {
   "display_name": ".NET (C#)",
   "language": "C#",
   "name": ".net-csharp"
  },
  "language_info": {
   "file_extension": ".cs",
   "mimetype": "text/x-csharp",
   "name": "C#",
   "pygments_lexer": "csharp",
   "version": "9.0"
  },
  "orig_nbformat": 4
 },
 "nbformat": 4,
 "nbformat_minor": 2
}

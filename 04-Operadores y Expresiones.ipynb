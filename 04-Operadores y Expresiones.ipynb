{
 "cells": [
  {
   "cell_type": "markdown",
   "metadata": {},
   "source": [
    "### Uso de las variables\n",
    "\n",
    "En lenguajes como C, por ejemplo, una variable simplemente almacena un valor. Cualquier operacion que se necesite hacer con las mismas involucra una funcion que tenemos que invocar, por ejemplo si tenemos en C tuvieramos una variable nombre que contiene un texto y queremos saber cuantos caracteres contiene dicho texto, deberiamos hacer lo siguiente:\n",
    "\n",
    "<code>\n",
    "\n",
    "  int numCaracteres = strlen(nombre);\n",
    "\n",
    "</code>\n",
    "\n",
    "En los lenguajes como C# las variables tienen una propiedad adicional (ya veremos de donde proviene) y es que nos permiten realizar acciones **desde** la propia variable, por ejemplo, lo mismo en C# seria:\n",
    "\n",
    "<code>\n",
    "\n",
    "  int numCaracteres =nombre.Length;\n",
    "\n",
    "</code>\n",
    "\n",
    "Cuando escribimos codigo la ventaja es inmediata ya que una vez que tipeamos el nombre de la variable y presionamos el punto, se nos despliegan todas las acciones que podemos hacer con esta variable.\n",
    "\n",
    "Sin embargo la ventaja real la vamos a ver a un nivel de paradigma de programacion:\n",
    "\n",
    "**Las funciones ahora estan \"cerca\" de los datos con los que pueden interactuar**\n",
    "\n",
    "<hr>\n",
    "\n",
    "Declaremos algunas variables, numericas, de cadena... vemos los resultados de llamar a funciones \"propias\"...\n",
    "\n",
    "- Obtener una subcadena\n",
    "- Ver si un caracter o cadena esta dentro de otra\n",
    "- Convertir la cadena a mayusculas/minusculas\n",
    "- Separar una cadena en tokens o partes"
   ]
  },
  {
   "cell_type": "code",
   "execution_count": null,
   "metadata": {
    "dotnet_interactive": {
     "language": "csharp"
    },
    "vscode": {
     "languageId": "dotnet-interactive.csharp"
    }
   },
   "outputs": [],
   "source": [
    "\n",
    "System.String dato = \"Hoy es jueves y ya se hizo tarde...\";\n",
    "\n",
    "//  index of empieza a contar desde CERO\n",
    "//\n",
    "Console.WriteLine(dato.IndexOf(\"tarde\"));\n",
    "Console.WriteLine(dato.IndexOf(\"tarde2\"));\n",
    "\n",
    "Console.WriteLine(dato.ToUpper());\n",
    "\n",
    "Console.WriteLine(dato.Substring(27, 5));\n",
    "\n",
    "Console.WriteLine(dato.StartsWith(\"hoy\", true, null));\n",
    "\n",
    "string input = \"valor 1 | valor 2 | valor 3 | valor 4\";\n",
    "\n",
    "input.Split('|').Display();\n",
    "\n",
    "//  todas estas funciones necesitan una INSTANCIA (la variable...)\n",
    "\n",
    "\n",
    "string.IsNullOrWhiteSpace(dato).Display();\n"
   ]
  },
  {
   "cell_type": "markdown",
   "metadata": {},
   "source": [
    "Donde podemos buscar estas funciones?\n",
    "\n",
    "<a href=\"https://docs.microsoft.com/en-us/dotnet/api/system.decimal?view=net-6.0\">Manual para tipo Decimal</a>\n",
    "\n",
    "<a href=\"https://docs.microsoft.com/en-us/dotnet/api/system.char?view=net-6.0\">Manual para tipo Char</a>\n",
    "\n",
    "<a href=\"https://docs.microsoft.com/en-us/dotnet/api/system.int32?view=net-6.0\">Manual para tipo Int32</a>\n",
    "\n",
    "\n",
    "Por qué los tipos numericos no parecen tener la misma \"riqueza\" en cuanto a funciones que puedo llamar que el tipo cadena? Incluso el tipo Char no parece tener muchas funciones \"propias\".\n",
    "\n",
    "Si nos ponemos a ver, todos tienen una funcion **ToString()** y **GetHashCode()** y **Equals()** casi todo el resto de las funcionalidades se accede **con el nombre del tipo (clase)** "
   ]
  },
  {
   "cell_type": "code",
   "execution_count": null,
   "metadata": {
    "dotnet_interactive": {
     "language": "csharp"
    },
    "vscode": {
     "languageId": "dotnet-interactive.csharp"
    }
   },
   "outputs": [],
   "source": [
    "decimal precio = 123.45M;\n",
    "\n",
    "//  probar overflow en int32 con este valor de precio\n",
    "//  decimal precio = 12365464654654654654564654646.45M;\n",
    "\n",
    "//  precio.ToInt32()\n",
    "\n",
    "//  convierte un decimal en un entero...lo trunca!\n",
    "//  OJO!!! Display() es una funcion propia de notebooks!!\n",
    "//\n",
    "Decimal.ToInt32(precio).Display();\n",
    "Decimal.ToInt32(precio).GetType().Display();\n",
    "\n",
    "//  y que diferencia con esta funcion??\n",
    "//\n",
    "Decimal.Truncate(precio).Display();\n",
    "Decimal.Truncate(precio).GetType().Display();"
   ]
  },
  {
   "cell_type": "markdown",
   "metadata": {},
   "source": [
    "Lo que vemos es que por ejemplo Decimal tiene incluidas funciones que podrian estar en una clase MathD (que no existe por ahora)\n",
    "\n",
    "En general los valores numericos tienen un uso muy especifico (realizar operaciones) y uno no piensa tanto en que un numero pueda tener asociado una funcion:\n"
   ]
  },
  {
   "cell_type": "code",
   "execution_count": null,
   "metadata": {
    "dotnet_interactive": {
     "language": "csharp"
    },
    "vscode": {
     "languageId": "dotnet-interactive.csharp"
    }
   },
   "outputs": [],
   "source": [
    "\n",
    "123.GetType().Display();\n",
    "\n",
    "55.ToString().Display();\n",
    "\n",
    "//  para hacerlo con un decimal es mas complicado\n",
    "\n",
    "(123.45).GetType().Display();\n",
    "\n",
    "(123.45M).ToString().Display();\n",
    "\n",
    "//  sin embargo no podemos hacer (porque no existe):\n",
    "//\n",
    "//  (123.45M).Truncate().Display();\n"
   ]
  },
  {
   "cell_type": "markdown",
   "metadata": {},
   "source": [
    "En mi opinion fue una decision inicial de los diseñadores de NET que se conserva hasta ahora, pero no es una imposibilidad tecnica o algo que podriamos considerar \"aberrante\" en cuanto a una practica de programacion.\n"
   ]
  },
  {
   "cell_type": "markdown",
   "metadata": {},
   "source": [
    "Que pasa cuando queremos hacer la cuenta de los milisegundos desde 01/01/1970...?\n",
    "\n",
    "Tenemos que armar una expresion matematica: operaciones que dan un resultado\n",
    "\n",
    "C# trata por defecto las operaciones entre enteros como **System.Int32** y las de tipos decimales como **System.Double**\n"
   ]
  },
  {
   "cell_type": "code",
   "execution_count": null,
   "metadata": {
    "dotnet_interactive": {
     "language": "csharp"
    },
    "vscode": {
     "languageId": "dotnet-interactive.csharp"
    }
   },
   "outputs": [],
   "source": [
    "/*\n",
    "  son mas o menos 52 años...\n",
    "  podemos declarar constantes que nos serviran para no equivocarnos en otras\n",
    "  partes del codigo\n",
    "*/\n",
    "const int DIAS_POR_AÑO = 365;\n",
    "const int HORAS_POR_DIA = 24;\n",
    "const int MINUTOS_POR_HORA = 60;\n",
    "const int SEGUNDOS_POR_MINUTO = 60;\n",
    "\n",
    "long milisegundos = (52 * 365 * 24 * 60L * 60 * 1000);\n",
    "\n",
    "milisegundos.Display(); \n",
    "\n",
    "//  podemos usar saltos de linea y tabulaciones para acomodar una sentencia \n",
    "//  que nos quede muy larga\n",
    "//\n",
    "long milisegundos_bis = 52 * DIAS_POR_AÑO * HORAS_POR_DIA * \n",
    "                        MINUTOS_POR_HORA * SEGUNDOS_POR_MINUTO * 1000L;\n"
   ]
  },
  {
   "cell_type": "markdown",
   "metadata": {},
   "source": [
    "Y que pasa en las divisiones?"
   ]
  },
  {
   "cell_type": "code",
   "execution_count": null,
   "metadata": {
    "dotnet_interactive": {
     "language": "csharp"
    },
    "vscode": {
     "languageId": "dotnet-interactive.csharp"
    }
   },
   "outputs": [],
   "source": [
    "double unMedio = 1 / 2;\n",
    "\n",
    "Console.WriteLine(unMedio);\n",
    "\n",
    "int resto = 105 % 2;\n",
    "\n",
    "resto.Display();"
   ]
  },
  {
   "cell_type": "markdown",
   "metadata": {},
   "source": [
    "Pasa lo mismo!!\n",
    "\n",
    "Si los operandos son enteros, la expresion es entera!!\n",
    "\n",
    "Por lo tanto para que el resultado sea double, alguno de los operandos debe ser double"
   ]
  },
  {
   "cell_type": "code",
   "execution_count": null,
   "metadata": {
    "dotnet_interactive": {
     "language": "csharp"
    },
    "vscode": {
     "languageId": "dotnet-interactive.csharp"
    }
   },
   "outputs": [],
   "source": [
    "double unMedio = 1.0 / 2;\n",
    "\n",
    "Console.WriteLine(unMedio);"
   ]
  },
  {
   "cell_type": "markdown",
   "metadata": {},
   "source": [
    "Podemos usar operaciones para armar expresiones de tipo logico\n",
    "\n",
    "Estas expresiones retornan valores que son de tipo **bool** que es el alias que usa C# para **System.Boolean** \n",
    "\n",
    "Los tipos booleanos pueden asumir solo dos valores\n",
    "\n",
    "- true\n",
    "- false\n",
    "\n",
    "Estos identificadores son palabras clave en C# y siempre deben estar en minusculas\n"
   ]
  },
  {
   "cell_type": "code",
   "execution_count": null,
   "metadata": {
    "dotnet_interactive": {
     "language": "csharp"
    },
    "vscode": {
     "languageId": "dotnet-interactive.csharp"
    }
   },
   "outputs": [],
   "source": [
    "int horaActual = 17;\n",
    "\n",
    "System.Boolean esDeMañana = horaActual < 12;\n",
    "\n",
    "esDeMañana.Display();\n",
    "\n",
    "System.Boolean esMediodia = horaActual == 12;\n",
    "\n",
    "System.Boolean noesMediodia = (horaActual != 12);\n",
    "\n",
    "//  asignacion se evalua de derecha a izquierda\n",
    "//\n",
    "int j, k, l;\n",
    "\n",
    "j = k = l = 0;  // <--------\n",
    "\n",
    "j = k = l = Decimal.ToInt32(123.45M) * 40;\n",
    "\n",
    "//  OJO!! no confundir lo que se muestra en la interface con lo que tenemos \n",
    "//  que escribir en el codigo!!\n",
    "\n",
    "bool cercaDeUnBar = true;   //  podria ser una llamada a una funcion GPS()\n",
    "\n",
    "bool tomarCafe = !esDeMañana & cercaDeUnBar;\n",
    "\n",
    "tomarCafe.Display();"
   ]
  },
  {
   "cell_type": "markdown",
   "metadata": {},
   "source": [
    "Como vemos en el slide, hay varios operadores logicos que nos permitiran realizar operaciones entre variables u otras expresiones logicas y que luego nos serviran para tomar decisiones dentro del codigo.\n",
    "\n",
    "Volvamos un poco al calculo de milisegundos, si tenemos un tipo fecha/hora tal vez podriamos hacer un mejor calculo de los valores."
   ]
  },
  {
   "cell_type": "code",
   "execution_count": null,
   "metadata": {
    "dotnet_interactive": {
     "language": "csharp"
    },
    "vscode": {
     "languageId": "dotnet-interactive.csharp"
    }
   },
   "outputs": [],
   "source": [
    "\n",
    "DateTime inicioEpoca =  new DateTime(1970, 1, 1);\n",
    "\n",
    "inicioEpoca.Display();\n",
    "\n",
    "TimeSpan lapso = DateTime.Now - inicioEpoca;\n",
    "\n",
    "lapso.Display();  //  dias, horas...etc\n",
    "\n",
    "Math.Truncate(lapso.TotalDays).Display();\n",
    "\n",
    "lapso.TotalMilliseconds.Display();\n",
    "\n",
    "//  los tipos referencia se \"\"\"\"\"\"ponen a cero\"\"\"\"\"\" con el valor null\n",
    "//\n",
    "string nombre = default;    //  equivalente a = null\n",
    "\n",
    "int cantidad = default;     //  equivalente a = 0\n",
    "\n",
    "DateTime fecha = default;   //  equivalente a ????\n",
    "\n",
    "bool logica = default;      //  equivalente a = false\n",
    "\n",
    "nombre.Display();\n",
    "\n",
    "cantidad.Display();\n",
    "\n",
    "fecha.Display();"
   ]
  },
  {
   "cell_type": "markdown",
   "metadata": {},
   "source": [
    "Vamos a comprobar la diferencia entre los operadores & y &&"
   ]
  },
  {
   "cell_type": "code",
   "execution_count": null,
   "metadata": {
    "dotnet_interactive": {
     "language": "csharp"
    },
    "vscode": {
     "languageId": "dotnet-interactive.csharp"
    }
   },
   "outputs": [],
   "source": [
    "string nombre = null;\n",
    "\n",
    "// .....\n",
    "\n",
    "bool nombreLargo = (nombre != null) & (nombre.Length >= 20);\n",
    "\n",
    "nombreLargo.Display();\n",
    "\n",
    "//  si cambiamos a && vemos que no falla\n",
    "\n",
    "//  suponiendo que la funcion GPS() se tiene que invocar para manter la\n",
    "//  posicion actualizada\n",
    "//\n",
    "//\n",
    "//  bool tomarCafe = !esDeMañana & GPS();\n"
   ]
  },
  {
   "cell_type": "markdown",
   "metadata": {},
   "source": [
    "Veamos ahora el uso de los operadores bitwise (operaciones bit a bit entre numeros)\n",
    "\n",
    "Por ejemplo el & realiza una operacion bit a bit AND entre los numeros\n",
    "\n",
    "Recordar la tabla de verdad de AND\n",
    "\n",
    "<pre>\n",
    "_______\n",
    "0 0 | 0\n",
    "0 1 | 0\n",
    "1 0 | 0\n",
    "1 1 | 1\n",
    "</pre>"
   ]
  },
  {
   "cell_type": "code",
   "execution_count": null,
   "metadata": {
    "dotnet_interactive": {
     "language": "csharp"
    },
    "vscode": {
     "languageId": "dotnet-interactive.csharp"
    }
   },
   "outputs": [],
   "source": [
    "int valorA = 0b0100_0100;   //  int valorA = 0x44; --> 68\n",
    "int valorB = 0b1011_0111;\n",
    "          //   0000_0100\n",
    "\n",
    "int valorC = valorA & valorB;\n",
    "\n",
    "          //   1111_0011    //  0xF3 --> 243\n",
    "int valorD = valorA ^ valorB;\n",
    "\n",
    "Console.WriteLine($\"0x{valorC:X2}\");\n",
    "\n",
    "Console.WriteLine($\"0x{valorD:X2} {valorD}\");\n",
    "\n",
    "const int MASK_BINARIO = 0b0000_0010;\n",
    "\n",
    "//  bit 0 -- solo lectura\n",
    "//  bit 1 -- binario\n",
    "//  bit 2 -- exclusivo\n",
    "//\n",
    "int tipoArchivo = 0b0000_0111;\n",
    "\n",
    "bool esBinario = (tipoArchivo & MASK_BINARIO) != 0;\n",
    "\n",
    "esBinario.Display();\n",
    "\n",
    "uint valorF = 0b0100_0100;\n",
    "uint valorE = ~valorF;\n",
    "         //  111..._1011_1011      --> 0xFF...BB\n",
    "\n",
    "Console.WriteLine($\"0x{valorE:X2} {valorE}\");\n"
   ]
  },
  {
   "cell_type": "markdown",
   "metadata": {},
   "source": [
    "Operadores combinados, permiten en la misma operacion, ejecutar y asignar el resultado a la variable de la izquierda.\n",
    "\n",
    "Son simplemente atajos para escribir menos, no vamos a tener un codigo mas eficiente\n",
    "\n",
    "Los operadores de incremento y decremento llevan al extremo esta reduccion de codigo. Aca no podemos decir lo mismo ya que podemos usar un operador de incremento y decremento en una expresion, pero no siempre vamos a obtener el resultado que parece a simple vista...\n"
   ]
  },
  {
   "cell_type": "code",
   "execution_count": null,
   "metadata": {
    "dotnet_interactive": {
     "language": "csharp"
    },
    "vscode": {
     "languageId": "dotnet-interactive.csharp"
    }
   },
   "outputs": [],
   "source": [
    "int x = 90;\n",
    "int y = 20;\n",
    "\n",
    "x = x * y;\n",
    "\n",
    "x *= y;\n",
    "\n",
    "x *= (y + x); //  equivalente --> x = (y + x) * x;\n",
    "\n",
    "//  las siguientes operaciones son equivalentes\n",
    "//\n",
    "x = x + 1;\n",
    "\n",
    "x += 1;\n",
    "\n",
    "x++;\n",
    "\n",
    "++x;\n",
    "\n",
    "x = 10;\n",
    "\n",
    "Console.WriteLine(++x);   //  primero incrementa y despues muestra\n",
    "Console.WriteLine(x++);   //  primero muestra y despues incrementa\n",
    "Console.WriteLine(x);\n",
    "\n",
    "int z = 0;\n",
    "\n",
    "int cuantoVale = (z++ + z++);\n",
    "\n",
    "cuantoVale.Display();"
   ]
  },
  {
   "cell_type": "markdown",
   "metadata": {},
   "source": []
  },
  {
   "cell_type": "code",
   "execution_count": null,
   "metadata": {
    "dotnet_interactive": {
     "language": "csharp"
    },
    "vscode": {
     "languageId": "dotnet-interactive.csharp"
    }
   },
   "outputs": [],
   "source": [
    "\n",
    "//  observar que la conversion implicita pierde precision\n",
    "//\n",
    "(Int32.MaxValue < float.MaxValue).Display();\n",
    "\n",
    "float x = Int32.MaxValue;\n",
    "\n",
    "x.Display();\n",
    "\n",
    "int x1 = int.MaxValue;\n",
    "\n",
    "long y = x1;\n",
    "\n",
    "y.Display();\n",
    "\n",
    "x1 = (int)++y;\n",
    "\n",
    "x1.Display();\n",
    "\n",
    "\n",
    "byte valorF = (byte)0b0100_0100;\n",
    "byte valorE = (byte)~valorF;\n",
    "         //  111..._1011_1011      --> 0xFF...BB\n",
    "\n",
    "Console.WriteLine($\"0x{valorE:X2} {valorE}\");\n"
   ]
  },
  {
   "cell_type": "markdown",
   "metadata": {},
   "source": []
  },
  {
   "cell_type": "code",
   "execution_count": null,
   "metadata": {
    "dotnet_interactive": {
     "language": "csharp"
    },
    "vscode": {
     "languageId": "dotnet-interactive.csharp"
    }
   },
   "outputs": [],
   "source": [
    "object nombre = 15;\n",
    "\n",
    "nombre.GetType().Display();\n",
    "\n",
    "string texto = (string)nombre;\n",
    "\n",
    "Console.WriteLine(texto);"
   ]
  }
 ],
 "metadata": {
  "kernelspec": {
   "display_name": ".NET (C#)",
   "language": "C#",
   "name": ".net-csharp"
  },
  "language_info": {
   "file_extension": ".cs",
   "mimetype": "text/x-csharp",
   "name": "C#",
   "pygments_lexer": "csharp",
   "version": "9.0"
  },
  "orig_nbformat": 4,
  "vscode": {
   "interpreter": {
    "hash": "9c7f5a96e196bafa8eb4912f7c266e965e894bbfb702cd276d56adfe2d42cab6"
   }
  }
 },
 "nbformat": 4,
 "nbformat_minor": 2
}

{
 "cells": [
  {
   "cell_type": "markdown",
   "metadata": {},
   "source": [
    "### Inyeccion de Dependencias\n",
    "\n",
    "Supongamos que estamos desarrollando una clase para envio de mensajeria desde una aplicacion.\n",
    "\n",
    "La clase Messenger es la encargada de enviar los mensajes mediante una llamada a Ejecutar(). No importa ahora el texto del mensaje, solamente el hecho del envio.\n",
    "\n",
    "Puede ser que diseñamos o bien nos faciliten una clase MailSender que sirve para envio de mensajes por SMTP y recepcion por POP3\n",
    "\n",
    "Usamos desde Messenger esta clase ya que nos parece conveniente enviar los mensajes por correo!!"
   ]
  },
  {
   "cell_type": "code",
   "execution_count": null,
   "metadata": {
    "dotnet_interactive": {
     "language": "csharp"
    },
    "vscode": {
     "languageId": "dotnet-interactive.csharp"
    }
   },
   "outputs": [],
   "source": [
    "\n"
   ]
  },
  {
   "cell_type": "markdown",
   "metadata": {},
   "source": [
    "El problema aparece cuando se nos presenta una nueva alternativa para enviar y recibir pero esta vez por IMAP.\n",
    "\n",
    "La nueva clase podria tener mas prestaciones que la original, por ejemplo:"
   ]
  },
  {
   "cell_type": "code",
   "execution_count": null,
   "metadata": {
    "dotnet_interactive": {
     "language": "csharp"
    },
    "vscode": {
     "languageId": "dotnet-interactive.csharp"
    }
   },
   "outputs": [],
   "source": []
  },
  {
   "cell_type": "markdown",
   "metadata": {},
   "source": [
    "Como integramos esta nueva feature para que podamos usar tanto uno como otro metodo, tal vez seleccionandolo desde la configuracion o por otro mecanismo externo.\n",
    "\n",
    "Si cambiamos Messenger por supuesto que funciona"
   ]
  },
  {
   "cell_type": "code",
   "execution_count": null,
   "metadata": {
    "dotnet_interactive": {
     "language": "csharp"
    },
    "vscode": {
     "languageId": "dotnet-interactive.csharp"
    }
   },
   "outputs": [],
   "source": []
  },
  {
   "cell_type": "markdown",
   "metadata": {},
   "source": [
    "Pero la idea no es cambiar Messenger\n",
    "\n",
    "Tenemos que crear un mecanismo en el cual Messenger no dependa de una clase concreta sino de una **ABSTRACCION**\n",
    "\n",
    "Esta abstraccion solo necesita enviar, recibir y obtener estado, ese es el \"contrato\" que debe cumplir\n",
    "\n",
    "Si hacemos depender a Messenger de una **INTERFACE** ya no tendriamos el problema de hacer un new diferente cada vez, sin embargo necesitamos que alguien nos **INYECTE** la clase concreta en algun momento para que Messenger pueda desarrollar su objetivo.\n",
    "\n",
    "Nosotros lo haremos manualmente, pero en las aplicaciones hosteadas, es tarea del **Container** asegurarse de que cuando cada clase es instanciada, la misma tiene todos los objetos necesarios para funcionar"
   ]
  },
  {
   "cell_type": "code",
   "execution_count": null,
   "metadata": {
    "dotnet_interactive": {
     "language": "csharp"
    },
    "vscode": {
     "languageId": "dotnet-interactive.csharp"
    }
   },
   "outputs": [],
   "source": []
  }
 ],
 "metadata": {
  "kernelspec": {
   "display_name": ".NET (C#)",
   "language": "C#",
   "name": ".net-csharp"
  },
  "language_info": {
   "file_extension": ".cs",
   "mimetype": "text/x-csharp",
   "name": "C#",
   "pygments_lexer": "csharp",
   "version": "9.0"
  },
  "orig_nbformat": 4
 },
 "nbformat": 4,
 "nbformat_minor": 2
}

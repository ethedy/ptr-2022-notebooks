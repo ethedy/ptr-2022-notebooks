{
 "cells": [
  {
   "cell_type": "markdown",
   "metadata": {},
   "source": [
    "Empezamos por nuestro ejemplo, el modelo rudimentario para nuestro juego.\n"
   ]
  },
  {
   "cell_type": "code",
   "execution_count": null,
   "metadata": {
    "dotnet_interactive": {
     "language": "csharp"
    },
    "vscode": {
     "languageId": "dotnet-interactive.csharp"
    }
   },
   "outputs": [],
   "source": [
    "public abstract class ItemJuego \n",
    "{\n",
    "  public int X {get; protected set;}\n",
    "  public int Y {get; protected set;}\n",
    "  \n",
    "  protected ItemJuego(int x, int y)\n",
    "  {\n",
    "    X = x; Y = y;\n",
    "  }\n",
    "  public abstract void Mostrar();\n",
    "}\n",
    "public class Casa : ItemJuego\n",
    "{\n",
    "  public Casa(int x, int y) : base(x, y)  {  }\n",
    "\n",
    "  public override void Mostrar()\n",
    "  {\n",
    "    Console.WriteLine($\"[Casa]: {X} ; {Y}\");\n",
    "  }\n",
    "}\n",
    "public class Vehiculo : ItemJuego\n",
    "{\n",
    "  public Vehiculo(int x, int y) : base(x, y) {}\n",
    "\n",
    "  public override void Mostrar()\n",
    "  {\n",
    "    Console.WriteLine($\"[Vehiculo]: {X} ; {Y}\");\n",
    "  }\n",
    "  public void Mover(int x, int y)\n",
    "  {\n",
    "    X = x; Y = y;\n",
    "  }\n",
    "}\n",
    "public class Personaje : ItemJuego\n",
    "{\n",
    "  public string Nombre {get; set;}\n",
    "  public Casa Residencia {get; set;}\n",
    "\n",
    "  public Personaje(string nombre, int x, int y) : base(x, y)\n",
    "  {\n",
    "    Nombre = nombre.Trim();\n",
    "  }\n",
    "  public Personaje(string nombre) : this(nombre, 0, 0) { }\n",
    "  \n",
    "  public override void Mostrar()\n",
    "  {\n",
    "    Console.WriteLine($\"Personaje: [{Nombre}] {X} {Y}\");\n",
    "    if (Residencia != null)\n",
    "    {\n",
    "      Console.Write(\" ==> Vive en\");\n",
    "      Residencia.Mostrar();\n",
    "    }\n",
    "    else\n",
    "      Console.WriteLine(\"HOMELESS!!\");\n",
    "  }\n",
    "  public void Mover(int x, int y)\n",
    "  {\n",
    "    X = x; Y = y;\n",
    "  }\n",
    "}\n",
    "\n",
    "List<ItemJuego> items = new List<ItemJuego>();\n",
    "\n",
    "items.Add(new Personaje(\"Homero\", 100, 100));\n",
    "items.Add(new Personaje(\"Marge\", -400, -900));\n",
    "items.Add(new Casa(300, 20));\n",
    "items.Add(new Personaje(\"Bart\", 30, 20));\n",
    "items.Add(new Vehiculo(50, 15));\n",
    "items.Add(new Personaje(\"Maggie\", 10, 10));\n",
    "items.Add(new Personaje(\"Lisa\"));\n",
    "items.Add(new Casa(100, -50));\n"
   ]
  },
  {
   "cell_type": "markdown",
   "metadata": {},
   "source": [
    "Supongamos que luego de desarrollarse durante un cierto tiempo, el juego tendra una serie de items en actividad, y necesitamos saber los objetos que estan a una distancia menor que X de otro objeto determinado.\n",
    "\n",
    "Deberiamos crear una funcion que nos permita encontrar estos elementos\n",
    "\n",
    "Que deberia retornar la funcion? cuales podrian ser los parametros?\n"
   ]
  },
  {
   "cell_type": "code",
   "execution_count": null,
   "metadata": {
    "dotnet_interactive": {
     "language": "csharp"
    },
    "vscode": {
     "languageId": "dotnet-interactive.csharp"
    }
   },
   "outputs": [],
   "source": [
    "List<ItemJuego> items = new List<ItemJuego>();\n",
    "Vehiculo auto = new Vehiculo(50, 15);\n",
    "\n",
    "items.Add(new Personaje(\"Homero\", 100, 100));\n",
    "items.Add(new Personaje(\"Marge\", -400, -900));\n",
    "items.Add(new Casa(300, 20));\n",
    "items.Add(new Personaje(\"Bart\", 30, 20));\n",
    "items.Add(auto);\n",
    "items.Add(new Personaje(\"Maggie\", 10, 10));\n",
    "items.Add(new Personaje(\"Lisa\"));\n",
    "items.Add(new Casa(100, -50));\n",
    "\n",
    "List<ItemJuego> HallarCercanos(ItemJuego origen, float distancia)\n",
    "{\n",
    "  Predicate<ItemJuego> selector = delegate (ItemJuego item)\n",
    "  {\n",
    "    int dX2 = (item.X - origen.X) * (item.X - origen.X);\n",
    "    int dY2 = (item.Y - origen.Y) * (item.Y - origen.Y);\n",
    "    float dist = MathF.Sqrt(dX2 + dY2);\n",
    "\n",
    "    return dist <= distancia;\n",
    "  };\n",
    "\n",
    "  return items.FindAll(selector);\n",
    "}\n",
    "\n",
    "var resultados = HallarCercanos(auto, 60);\n",
    "\n",
    "foreach(var item in resultados)\n",
    "  item.Mostrar();"
   ]
  },
  {
   "cell_type": "markdown",
   "metadata": {},
   "source": [
    "Por que es importante poder definir estos delegados \"en linea\" dentro de otras funciones/metodos?\n",
    "\n",
    "La captura de variables o parametros dentro de un delegado es fundamental en el codigo moderno.\n",
    "\n",
    "El proceso se denomina **closure**\n"
   ]
  },
  {
   "cell_type": "code",
   "execution_count": null,
   "metadata": {
    "dotnet_interactive": {
     "language": "csharp"
    },
    "vscode": {
     "languageId": "dotnet-interactive.csharp"
    }
   },
   "outputs": [],
   "source": [
    "List<ItemJuego> items = new List<ItemJuego>();\n",
    "Vehiculo auto = new Vehiculo(50, 15);\n",
    "\n",
    "items.Add(new Personaje(\"Homero\", 100, 100));\n",
    "items.Add(new Personaje(\"Marge\", -400, -900));\n",
    "items.Add(new Casa(300, 20));\n",
    "items.Add(new Personaje(\"Bart\", 30, 20));\n",
    "items.Add(auto);\n",
    "items.Add(new Personaje(\"Maggie\", 10, 10));\n",
    "items.Add(new Personaje(\"Lisa\"));\n",
    "items.Add(new Casa(100, -50));\n",
    "\n",
    "List<ItemJuego> HallarCercanos(ItemJuego origen, float distancia)\n",
    "{\n",
    "  return items.FindAll(CercaDe);\n",
    "\n",
    "  bool CercaDe(ItemJuego item)\n",
    "  {\n",
    "    int dX2 = (item.X - origen.X) * (item.X - origen.X);\n",
    "    int dY2 = (item.Y - origen.Y) * (item.Y - origen.Y);\n",
    "    float dist = MathF.Sqrt(dX2 + dY2);\n",
    "\n",
    "    return dist <= distancia;\n",
    "  };\n",
    "}\n",
    "\n",
    "var resultados = HallarCercanos(auto, 60);\n",
    "\n",
    "foreach(var item in resultados)\n",
    "  item.Mostrar();"
   ]
  },
  {
   "cell_type": "code",
   "execution_count": null,
   "metadata": {
    "dotnet_interactive": {
     "language": "csharp"
    },
    "vscode": {
     "languageId": "dotnet-interactive.csharp"
    }
   },
   "outputs": [],
   "source": [
    "List<ItemJuego> HallarCercanos(ItemJuego origen, float distancia)\n",
    "{\n",
    "  return items.FindAll(CercaDe);\n",
    "}\n",
    "\n",
    "//ItemJuego origen;\n",
    "//float distancia;\n",
    "\n",
    "bool CercaDe(ItemJuego item)\n",
    "{\n",
    "  int dX2 = (item.X - origen.X) * (item.X - origen.X);\n",
    "  int dY2 = (item.Y - origen.Y) * (item.Y - origen.Y);\n",
    "  float dist = MathF.Sqrt(dX2 + dY2);\n",
    "\n",
    "  return dist <= distancia;\n",
    "}\n",
    "\n"
   ]
  }
 ],
 "metadata": {
  "kernelspec": {
   "display_name": ".NET (C#)",
   "language": "C#",
   "name": ".net-csharp"
  },
  "language_info": {
   "file_extension": ".cs",
   "mimetype": "text/x-csharp",
   "name": "C#",
   "pygments_lexer": "csharp",
   "version": "9.0"
  },
  "orig_nbformat": 4,
  "vscode": {
   "interpreter": {
    "hash": "9c7f5a96e196bafa8eb4912f7c266e965e894bbfb702cd276d56adfe2d42cab6"
   }
  }
 },
 "nbformat": 4,
 "nbformat_minor": 2
}

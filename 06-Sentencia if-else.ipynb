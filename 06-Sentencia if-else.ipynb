{
 "cells": [
  {
   "cell_type": "markdown",
   "metadata": {},
   "source": [
    "### Sentencia if\n",
    "\n",
    "Veremos ahora diferentes sentencias que nos permiten controlar el flujo del programa\n",
    "\n",
    "Las estructuras son similares a muchos lenguajes, C# no es la excepcion para disponer de estructuras que permiten\n",
    "\n",
    "- tomar decisiones\n",
    "- repetir una serie de sentencias por una cantidad determinada o no de ciclos\n",
    "\n",
    "Conviene refrescar algo que vimos en puntos anteriores: las expresiones logicas o booleanas. Eran expresiones que nos devolvian un valor booleano, true/false. Podemos usar operadores de comparacion de igualdad, operadores logicos AND, OR y NOT, combinarlos como sea necesario y usar los resultados para controlar estas estructuras.\n",
    "\n",
    "En un momento declaramos una variable booleana tomarCafe y habiamos dicho que seria true si no era de mañana y estabamos cerca de un bar. Ahora con el conocimiento del tipo DateTime podemos acercarnos un poco mas a la realidad:"
   ]
  },
  {
   "cell_type": "code",
   "execution_count": null,
   "metadata": {
    "dotnet_interactive": {
     "language": "csharp"
    },
    "vscode": {
     "languageId": "dotnet-interactive.csharp"
    }
   },
   "outputs": [],
   "source": [
    "bool cercaDeUnBar = true;       //  por ahora la ajustamos a mano...\n",
    "\n",
    "bool esDeMañana = DateTime.Now.Hour < 12;\n",
    "bool tomarCafe = !esDeMañana && cercaDeUnBar;\n",
    "\n",
    "Console.WriteLine(tomarCafe);"
   ]
  },
  {
   "cell_type": "markdown",
   "metadata": {},
   "source": [
    "La primera estructura que veremos es el **if .. else**\n",
    "\n",
    "La condicion que va entre parentesis es una expresion booleana, igual que la que vimos recien. Por lo tanto podriamos escribir ahora determinado codigo en caso que la condicion sea verdadera:"
   ]
  },
  {
   "cell_type": "code",
   "execution_count": null,
   "metadata": {
    "dotnet_interactive": {
     "language": "csharp"
    },
    "vscode": {
     "languageId": "dotnet-interactive.csharp"
    }
   },
   "outputs": [],
   "source": [
    "bool cercaDeUnBar = true;\n",
    "\n",
    "//  vamos a colocar toda la condicion en la misma expresion, no es necesario declarar\n",
    "//  variables separadas para todo\n",
    "//\n",
    "if (!(DateTime.Now.Hour < 12) && cercaDeUnBar)\n",
    "  Console.WriteLine(\"Entrar al bar y tomar cafe\");"
   ]
  },
  {
   "cell_type": "markdown",
   "metadata": {},
   "source": [
    "Observar que a diferencia de otros lenguajes, no hay una palabra clave para especificar las sentencias que se ejecutan cuando se produce la condicion true. En Basic por ejemplo hay que escribir la palabra **then**, o en Python hay que indentar obligatoriamente las sentencias.\n",
    "\n",
    "Dependiendo de la hora en que ejecutemos este codigo el resultado sera que mostramos o no el mensaje. Supongamos que ahora queremos mostrar dos mensajes si la condicion es verdadera:\n"
   ]
  },
  {
   "cell_type": "code",
   "execution_count": null,
   "metadata": {
    "dotnet_interactive": {
     "language": "csharp"
    },
    "vscode": {
     "languageId": "dotnet-interactive.csharp"
    }
   },
   "outputs": [],
   "source": [
    "bool cercaDeUnBar = true;\n",
    "\n",
    "if (!(DateTime.Now.Hour < 12) && cercaDeUnBar)\n",
    "  Console.WriteLine(\"Entrar al bar y tomar cafe\");\n",
    "  Console.WriteLine(\"Leer el diario\");"
   ]
  },
  {
   "cell_type": "markdown",
   "metadata": {},
   "source": [
    "Tiene logica lo que ocurrio?\n",
    "\n",
    "Por que \"Leer el diario\" aparece siempre?\n",
    "\n",
    "Si nos fijamos la definicion, en el slide, dice \"sentencia o bloque\" con esto indicamos que la sentencia if ejecuta **una sola sentencia** en el caso true o bien un BLOQUE, que para el caso se considera como una unica sentencia.\n",
    "\n",
    "Reescribimos entonces:"
   ]
  },
  {
   "cell_type": "code",
   "execution_count": null,
   "metadata": {
    "dotnet_interactive": {
     "language": "csharp"
    },
    "vscode": {
     "languageId": "dotnet-interactive.csharp"
    }
   },
   "outputs": [],
   "source": [
    "bool cercaDeUnBar = true;\n",
    "\n",
    "if (!(DateTime.Now.Hour < 12) && cercaDeUnBar)\n",
    "{\n",
    "  //  por supuesto podemos declarar variables en el bloque que no se veran fuera del mismo\n",
    "  string diario = \"La Prensa\";\n",
    "\n",
    "  Console.WriteLine(\"Entrar al bar y tomar cafe\");\n",
    "  Console.WriteLine($\"Leer {diario}\");\n",
    "}\n",
    "\n",
    "//  diario no existe en este contexto..."
   ]
  },
  {
   "cell_type": "markdown",
   "metadata": {},
   "source": [
    "La siguiente pregunta es \"que hacemos en el caso false\"\n",
    "\n",
    "Habra veces que el caso false no tiene un camino alternativo, o sea que se sigue con la ejecucion normal posterior al if. Observar que este camino es el mismo que se sigue una vez que termina la ejecucion de las sentencias del caso true.\n",
    "\n",
    "Otras veces, necesitaremos ejecutar sentencias cuando no se cumple la condicion, en ese caso usamos **else**"
   ]
  },
  {
   "cell_type": "code",
   "execution_count": null,
   "metadata": {
    "dotnet_interactive": {
     "language": "csharp"
    },
    "vscode": {
     "languageId": "dotnet-interactive.csharp"
    }
   },
   "outputs": [],
   "source": [
    "bool cercaDeUnBar = true;\n",
    "\n",
    "if (!(DateTime.Now.Hour < 12) && cercaDeUnBar)\n",
    "{\n",
    "  //  por supuesto podemos declarar variables en el bloque que no se veran fuera del mismo\n",
    "  string diario = \"La Prensa\";\n",
    "\n",
    "  Console.WriteLine(\"Entrar al bar y tomar cafe\");\n",
    "  Console.WriteLine($\"Leer {diario}\");\n",
    "}\n",
    "else\n",
    "  Console.WriteLine(\"Seguir trabajando...\");\n",
    "\n",
    "  Console.WriteLine(\"Cuando se muestra esta linea???\");   //  cuando???\n"
   ]
  },
  {
   "cell_type": "markdown",
   "metadata": {},
   "source": [
    "El caso anterior es correcto, no es necesario un bloque de codigo en el else, pero la indentacion de la linea inferior es engañosa.\n",
    "\n",
    "Algunos compiladores nos presentaran un warning diciendo que la indentacion no es consistente, pero es un warning no un error, y realmente puede ser que querramos ponerla junto con el bloque else y nos equivocamos...\n",
    "\n",
    "A veces es mejor siempre usar bloques en estas sentencias y olvidarse de estos problemas. Poner un bloque no hara mas lento el programa, a lo sumo escribimos un poco mas.\n",
    "\n",
    "Otra cosa que tenemos que tener cuidado es, que representaria este caso else? La respuesta no es tan sencilla...porque a priori podriamos decir que representa el caso en el que es de mañana pero tambien representa el caso en que no estoy cerca de un bar...aunque sea de tarde!\n",
    "\n",
    "Por eso es importante armar las sentencias y las expresiones logicas de tal manera que cuando las leamos sepamos bien lo que quisimos expresar. Si lo que queremos expresar es lo siguiente:\n",
    "\n",
    "- si es de tarde (y solo si es de tarde) y estoy cerca de un bar, voy a tomar cafe\n",
    "- si no es de tarde (o sea si es de mañana O de noche) hare otra cosa sin importar si estoy o no cerca de un bar..."
   ]
  },
  {
   "cell_type": "code",
   "execution_count": null,
   "metadata": {
    "dotnet_interactive": {
     "language": "csharp"
    },
    "vscode": {
     "languageId": "dotnet-interactive.csharp"
    }
   },
   "outputs": [],
   "source": [
    "bool cercaDeUnBar = true;\n",
    "\n",
    "//  aca limito las condiciones y dejo de ser ambiguo respecto a lo que pasa en otros horarios\n",
    "//\n",
    "if (DateTime.Now.Hour > 12 && DateTime.Now.Hour < 20)\n",
    "{\n",
    "  if (cercaDeUnBar)\n",
    "  {\n",
    "    //  por supuesto podemos declarar variables en el bloque que no se veran fuera del mismo\n",
    "    string diario = \"La Prensa\";\n",
    "\n",
    "    Console.WriteLine(\"Entrar al bar y tomar cafe\");\n",
    "    Console.WriteLine($\"Leer {diario}\");\n",
    "  }\n",
    "  //  no necesito else...\n",
    "}\n",
    "else\n",
    "  Console.WriteLine(\"Seguir trabajando...\");\n"
   ]
  },
  {
   "cell_type": "markdown",
   "metadata": {},
   "source": [
    "La ultima...\n",
    "\n",
    "Si no es de tarde, puede ser de noche o puede ser de mañana\n",
    "\n",
    "Dependiendo del caso, voy a descansar o a trabajar...\n"
   ]
  },
  {
   "cell_type": "code",
   "execution_count": null,
   "metadata": {
    "dotnet_interactive": {
     "language": "csharp"
    },
    "vscode": {
     "languageId": "dotnet-interactive.csharp"
    }
   },
   "outputs": [],
   "source": [
    "bool cercaDeUnBar = true;\n",
    "\n",
    "if (DateTime.Now.Hour > 12 && DateTime.Now.Hour < 20)\n",
    "{\n",
    "  if (cercaDeUnBar)\n",
    "  {\n",
    "    //  por supuesto podemos declarar variables en el bloque que no se veran fuera del mismo\n",
    "    string diario = \"La Prensa\";\n",
    "\n",
    "    Console.WriteLine(\"Entrar al bar y tomar cafe\");\n",
    "    Console.WriteLine($\"Leer {diario}\");\n",
    "  }\n",
    "  //  no necesito else...\n",
    "}\n",
    "else \n",
    "  if (DateTime.Now.Hour < 8)\n",
    "    Console.WriteLine(\"Descansar...\");\n",
    "  else\n",
    "    Console.WriteLine(\"Seguir trabajando...\");\n",
    "\n",
    "//  a veces se pone else if juntos...pero no existe una sentencia \"else if\"\n",
    "//  simplemente es un if anidado en un else...\n",
    "    "
   ]
  },
  {
   "cell_type": "markdown",
   "metadata": {},
   "source": []
  }
 ],
 "metadata": {
  "kernelspec": {
   "display_name": ".NET (C#)",
   "language": "C#",
   "name": ".net-csharp"
  },
  "language_info": {
   "file_extension": ".cs",
   "mimetype": "text/x-csharp",
   "name": "C#",
   "pygments_lexer": "csharp",
   "version": "9.0"
  },
  "orig_nbformat": 4
 },
 "nbformat": 4,
 "nbformat_minor": 2
}

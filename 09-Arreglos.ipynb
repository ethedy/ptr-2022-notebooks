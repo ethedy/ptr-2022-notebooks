{
 "cells": [
  {
   "cell_type": "markdown",
   "metadata": {},
   "source": [
    "### Arrays\n",
    "\n",
    "Los arreglos, arrays o vectores son una de las estructuras mas basicas pero tambien una de las mas usadas en cualquier algoritmo y que por supuesto se presenta en la mayoria de los lenguajes de programacio, de una manera u otra.\n",
    "\n",
    "En C# un array es un tipo en si mismo (System.Array) pero para todos los fines practicos siempre vamos a considerar que una variable sera de tipo \"array de X\" donde X es el tipo de cada una de las celdas del arreglo.\n",
    "\n",
    "Las celdas como vimos en el slide se empiezan a contar siempre desde CERO\n",
    "\n",
    "El CLR tiene mecanismos adecuados para asegurarnos que nunca vamos a exceder el limite de un array, o sea nunca vamos a poder acceder a un elemento que no existe. Si el array de de 10 elementos nunca podremos acceder al #11\n",
    "\n",
    "Otra caracteristica de los arreglos y que puede prestar a confusion: no es necesario inicializar **cada uno de los elementos del array** para poder utilizarlos. Esto pareciera estar en contra de lo que sabemos para una variable, sin embargo lo que ocurre es que tenemos que imaginar al array en su totalidad como una variable!\n",
    "\n",
    "Cuando usamos new [] para inicializar **la variable** ya estamos seteando cada uno de los elementos en el valor por default."
   ]
  },
  {
   "cell_type": "code",
   "execution_count": null,
   "metadata": {
    "dotnet_interactive": {
     "language": "csharp"
    },
    "vscode": {
     "languageId": "dotnet-interactive.csharp"
    }
   },
   "outputs": [],
   "source": [
    "{\n",
    "  int entero;\n",
    "\n",
    "  //  no podemos usar una variable si no esta asignada previamente!!\n",
    "  //  Console.WriteLine(entero);\n",
    "}\n",
    "\n",
    "int[] arreglo = new int[20];\n",
    "\n",
    "Console.WriteLine(arreglo[10]);"
   ]
  },
  {
   "cell_type": "markdown",
   "metadata": {},
   "source": [
    "Por supuesto vale para arreglos de cualquier tipo base!\n",
    "\n",
    "Tenemos que imaginar que cuando hacemos new[] es \"equivalente\" a poner cada elemento en su valor por default"
   ]
  },
  {
   "cell_type": "code",
   "execution_count": null,
   "metadata": {
    "dotnet_interactive": {
     "language": "csharp"
    },
    "vscode": {
     "languageId": "dotnet-interactive.csharp"
    }
   },
   "outputs": [],
   "source": [
    "StringBuilder[] sb = new StringBuilder[10]; \n",
    "\n",
    "//  new -->  es equivalente al siguiente codigo (comentarlo y ver que el resultado es el mismo)\n",
    "//\n",
    "for (int i = 0; i < 10; i++) sb[i] = default;\n",
    "\n",
    "Console.WriteLine(sb[5]);\n"
   ]
  },
  {
   "cell_type": "markdown",
   "metadata": {},
   "source": [
    "Diferentes maneras de inicializar un arreglo...\n",
    "\n",
    "Podemos usar **var** para que el compilador infiera el tipo del array pero si ponemos tipos no compatibles, la inferencia sera imposible (ejemplo, mezclar decimal con double)\n",
    "\n",
    "El hardcodeo de arreglos no es muy comun en un programa productivo, puede ser usado para testeos o para casos de uso muy particulares (tenemos que estar muy seguros que no vamos a necesitar que los valores cambien)\n"
   ]
  },
  {
   "cell_type": "code",
   "execution_count": null,
   "metadata": {
    "dotnet_interactive": {
     "language": "csharp"
    },
    "vscode": {
     "languageId": "dotnet-interactive.csharp"
    }
   },
   "outputs": [],
   "source": [
    "//  Cuando usemos var, el tipo de la variable a la derecha tiene que ser inferible sin\n",
    "//  ambigüedades! Por ejemplo en el siguiente caso, null podria representar cualquier\n",
    "//  tipo referencia...\n",
    "//\n",
    "//  var variable = null;  //  es un string o es un int[]??\n",
    "\n",
    "//  la sintaxis target-typed de new no puede usarse en arreglos...\n",
    "//  para un tipo comun es aplicable\n",
    "//\n",
    "StringBuilder sb = new ();  //  C#9+\n",
    "\n",
    "//  pero en un array me faltarian datos del tamaño\n",
    "//\n",
    "//  StringBuilder[] sbs = new[20]();  //  ERROR\n",
    "//  StringBuilder[] sbs = new(20);  //  ERROR\n",
    "//  StringBuilder[] sbs = new[20];  //  ERROR\n",
    "\n",
    "//  declaracion y definicion simple\n",
    "\n",
    "int[] pares = new [] {0, 2, 4, 6, 8, 10};\n",
    "\n",
    "Console.WriteLine($\"El tamaño del array es {pares.Length}\");\n",
    "\n",
    "//  declaracion y definicion con el operador new\n",
    "\n",
    "int[] impares = new int[10];\n",
    "\n",
    "//  para llenarlo podemos usar un for()\n",
    "\n",
    "//  System.Int32[] --> Length\n",
    "//  System.Array --> Length\n",
    "//\n",
    "for (int i = 0; i < impares.Length; i++)\n",
    "  impares[i] = (i * 2) + 1;\n",
    "\n",
    "impares.Display();\n",
    "\n",
    "pares.GetType().Display();\n",
    "impares.GetType().Display();\n",
    "\n",
    "//  ERROR!!! indice fuera de rango\n",
    "//  Console.WriteLine(impares[10]);\n",
    "\n",
    "//  inferido es double[]\n",
    "//  \n",
    "var inferido = new[] {1, 2.0, 3, 4};\n",
    "\n",
    "//  inferido es int[]\n",
    "//\n",
    "//  var inferido = new[] {1, 2, 3, 4};\n",
    "\n",
    "//  no se puede inferir => mezcla double con decimal\n",
    "//\n",
    "//  var inferido = new[] {1, 2.0, 3M, 4};\n",
    "\n"
   ]
  },
  {
   "cell_type": "markdown",
   "metadata": {},
   "source": [
    "Si bien en un arreglo es bien conocido el tamaño (tenemos que crearlo con un tamaño inicial) a veces es mas practico recorrerlo con una sentencia foreach\n",
    "\n",
    "Sin embargo tener en cuenta que no podemos modificar los valores del array ya que la variable de iteracion es de solo lectura\n",
    "\n",
    "Por ejemplo, tratemos de multiplicar por dos cada elemento del array de pares..."
   ]
  },
  {
   "cell_type": "code",
   "execution_count": null,
   "metadata": {
    "dotnet_interactive": {
     "language": "csharp"
    },
    "vscode": {
     "languageId": "dotnet-interactive.csharp"
    }
   },
   "outputs": [],
   "source": [
    "int[] pares = new [] {0, 2, 4, 6, 8, 10};\n",
    "\n",
    "pares.GetType().Display();\n",
    "\n",
    "foreach (var numero in pares)\n",
    "  //  numero *= 2;\n",
    "  Console.WriteLine(numero);\n"
   ]
  },
  {
   "cell_type": "markdown",
   "metadata": {},
   "source": [
    "Algunos metodos/propiedades desde System.Array..."
   ]
  },
  {
   "cell_type": "code",
   "execution_count": null,
   "metadata": {
    "dotnet_interactive": {
     "language": "csharp"
    },
    "vscode": {
     "languageId": "dotnet-interactive.csharp"
    }
   },
   "outputs": [],
   "source": [
    "int[,] matriz = new int[5, 7];\n",
    "\n",
    "matriz.Length.Display();\n",
    "\n",
    "matriz.GetLength(0).Display();\n",
    "\n",
    "for (int fila = 0; fila < matriz.GetLength(0); fila++)\n",
    "{\n",
    "  for (int columna = 0; columna < matriz.GetLength(1); columna++)\n",
    "    matriz[fila, columna] = fila * columna;\n",
    "}\n",
    "\n",
    "foreach (int item in matriz)\n",
    "  Console.Write($\" {item} \");\n",
    "  \n",
    "Console.WriteLine();\n",
    "Console.WriteLine();\n",
    "\n",
    "for (int fila = 0; fila < matriz.GetLength(0); fila++)\n",
    "{\n",
    "  for (int columna = 0; columna < matriz.GetLength(1); columna++)\n",
    "    Console.Write($\" {matriz[fila, columna]} \");\n",
    "  Console.WriteLine();\n",
    "}\n"
   ]
  },
  {
   "cell_type": "markdown",
   "metadata": {},
   "source": [
    "**Arreglos y asignaciones de variables tipo referencia**\n",
    "\n",
    "Un array es un tipo referencia y las reglas de asignacion para estos tipos de datos son diferentes a las de tipo valor. Podrian no ser tan naturales de interpretar de antemano.\n",
    "\n",
    "Veamos una variable tipo valor (int) y dos tipo referencia, un array asignado a null y otro con elementos."
   ]
  },
  {
   "cell_type": "code",
   "execution_count": null,
   "metadata": {
    "dotnet_interactive": {
     "language": "csharp"
    },
    "vscode": {
     "languageId": "dotnet-interactive.csharp"
    }
   },
   "outputs": [],
   "source": [
    "  {\n",
    "    int x = 10;\n",
    "    int[] pares = default;  // equivale a null\n",
    "    int[] impares = new int[] {1, 3, 5, 7};\n",
    "  }"
   ]
  },
  {
   "cell_type": "markdown",
   "metadata": {},
   "source": [
    "En memoria se ven de la siguiente manera. El STACK es local al bloque de codigo mientras que el HEAP es global a toda la aplicacion\n",
    "\n",
    "<pre>\n",
    "================================== STACK ==================================\n",
    "              +--------+\n",
    "       x -->  |   10   |\n",
    "              .--------.\n",
    "\n",
    "              +--------+\n",
    "    pares-->  | ****** |\n",
    "              .--------.\n",
    "\n",
    "              +--------+\n",
    "  impares-->  | 0x1234 |\n",
    "              .--------.\n",
    "  \n",
    "================================== HEAP ==================================\n",
    "  \n",
    "            +----+\n",
    "0x1234 -->  | 1  |\n",
    "            .----.\n",
    "            | 3  |\n",
    "            .----.\n",
    "            | 5  |\n",
    "            .----.\n",
    "            | 7  |\n",
    "            +----+\n",
    "</pre>"
   ]
  },
  {
   "cell_type": "markdown",
   "metadata": {},
   "source": [
    "Dejando de lado los arrays...\n",
    "\n",
    "Supongamos que ahora agregamos una nueva variable \"y\" entera y le asignamos x.\n",
    "\n",
    "Cual es el resultado?\n",
    "\n",
    "Y que pasa si despues asignamos a y un valor de 20?"
   ]
  },
  {
   "cell_type": "code",
   "execution_count": null,
   "metadata": {
    "dotnet_interactive": {
     "language": "csharp"
    },
    "vscode": {
     "languageId": "dotnet-interactive.csharp"
    }
   },
   "outputs": [],
   "source": [
    "  {\n",
    "    int x = 10;\n",
    "    int y = x;\n",
    "    \n",
    "    //  CHECKPOINT A\n",
    "\n",
    "    y = 20;\n",
    "    //  CHECKPOINT B\n",
    "  }\n"
   ]
  },
  {
   "cell_type": "markdown",
   "metadata": {},
   "source": [
    "\n",
    "<pre>\n",
    "================================== STACK A ==================================\n",
    "              +--------+\n",
    "       x -->  |   10   |\n",
    "              .--------.\n",
    "\n",
    "              +--------+\n",
    "       y -->  |   10   |\n",
    "              .--------.\n",
    "\n",
    "================================== STACK B ==================================\n",
    "              +--------+\n",
    "       x -->  |   10   |\n",
    "              .--------.\n",
    "\n",
    "              +--------+\n",
    "       y -->  |   20   |\n",
    "              .--------.\n",
    "</pre>\n",
    "\n",
    "Observamos que cuando termina el codigo, el valor de y se modifica pero el valor de x no cambia, como es logico...\n",
    "\n",
    "Ahora incorporamos los arrays..."
   ]
  },
  {
   "cell_type": "code",
   "execution_count": null,
   "metadata": {
    "dotnet_interactive": {
     "language": "csharp"
    },
    "vscode": {
     "languageId": "dotnet-interactive.csharp"
    }
   },
   "outputs": [],
   "source": [
    "  {\n",
    "    int x = 10;\n",
    "    int y = x;\n",
    "\n",
    "    int[] pares = null;\n",
    "    int[] impares = new int[] {1, 3, 5, 7};\n",
    "    \n",
    "    pares = impares;\n",
    "    //  CHECKPOINT A\n",
    "\n",
    "    pares[2] = 100;\n",
    "    y = 20;\n",
    "    //  CHECKPOINT B\n",
    "  }\n"
   ]
  },
  {
   "cell_type": "markdown",
   "metadata": {},
   "source": [
    "<div \n",
    "  style=\"position: relative; padding: 1rem 1rem; margin-bottom: 1rem;\n",
    "         border: 1px solid transparent; border-radius: 0.25rem; color: white;\n",
    "         background-color: crimson; border-color: tomato; width: 70%\">\n",
    "  ATENCION!!! No es asi como funciona!!\n",
    "</div>\n",
    "\n",
    "\n",
    "<pre>\n",
    "================================== STACK A ==================================\n",
    "              +--------+\n",
    "       x -->  |   10   |\n",
    "              .--------.\n",
    "\n",
    "              +--------+\n",
    "       y -->  |   10   |\n",
    "              .--------.\n",
    "\n",
    "              +--------+\n",
    "    pares-->  | 0x5678 |\n",
    "              .--------.\n",
    "\n",
    "              +--------+\n",
    "  impares-->  | 0x1234 |\n",
    "              .--------.\n",
    "  \n",
    "================================== HEAP A ==================================\n",
    "\n",
    "            +----+\n",
    "0x1234 -->  | 1  |\n",
    "            .----.\n",
    "            | 3  |\n",
    "            .----.\n",
    "            | 5  |\n",
    "            .----.\n",
    "            | 7  |\n",
    "            +----+\n",
    "\n",
    "            +----+\n",
    "0x5678 -->  | 1  |\n",
    "            .----.\n",
    "            | 3  |\n",
    "            .----.\n",
    "            | 5  |\n",
    "            .----.\n",
    "            | 7  |\n",
    "            +----+\n",
    "\n",
    "</pre>              \n",
    "\n",
    "<pre>\n",
    "================================== STACK B ==================================\n",
    "              +--------+\n",
    "       x -->  |   10   |\n",
    "              .--------.\n",
    "\n",
    "              +--------+\n",
    "       y -->  |   20   |\n",
    "              .--------.\n",
    "\n",
    "              +--------+\n",
    "    pares-->  | 0x5678 |\n",
    "              .--------.\n",
    "\n",
    "              +--------+\n",
    "  impares-->  | 0x1234 |\n",
    "              .--------.\n",
    "  \n",
    "================================== HEAP B ==================================\n",
    "\n",
    "            +----+\n",
    "0x1234 -->  | 1  |\n",
    "            .----.\n",
    "            | 3  |\n",
    "            .----.\n",
    "            | 5  |\n",
    "            .----.\n",
    "            | 7  |\n",
    "            +----+\n",
    "\n",
    "            +----+\n",
    "0x5678 -->  | 1  |\n",
    "            .----.\n",
    "            | 3  |\n",
    "            .----.\n",
    "            | 100|\n",
    "            .----.\n",
    "            | 7  |\n",
    "            +----+\n",
    "\n",
    "</pre>              \n"
   ]
  },
  {
   "cell_type": "markdown",
   "metadata": {},
   "source": [
    "Si ambos tipos de variables se comportaran igual, podriamos pensar en un escenario como el previo: si valores enteros se copian y son independientes, por que no esperar que con los arrays pase lo mismo?\n",
    "\n",
    "El problema es que con los REFERENCE TYPES no pasa esto...y lo que se copia cuando asignamos una variable tipo referencia a otra, es precisamente **la referencia** o sea el numero contenido en la misma y que apunta a la memoria del HEAP donde **realmente** esta el objeto en cuestion."
   ]
  },
  {
   "cell_type": "code",
   "execution_count": null,
   "metadata": {
    "dotnet_interactive": {
     "language": "csharp"
    },
    "vscode": {
     "languageId": "dotnet-interactive.csharp"
    }
   },
   "outputs": [],
   "source": [
    "  int[] pares = null;\n",
    "  int[] impares = new int[] {1, 3, 5, 7};\n",
    "  \n",
    "  pares = impares;\n",
    "  //  CHECKPOINT A\n",
    "\n",
    "  pares[2] = 4;\n",
    "  //  CHECKPOINT B\n",
    "\n",
    "  //  que pasa si imprimo impares?? --> veremos el valor 4 como parte del array!!\n",
    "\n",
    "  impares.Display();"
   ]
  },
  {
   "cell_type": "markdown",
   "metadata": {},
   "source": [
    "##### **Asi es como funciona realmente!!!**\n",
    "\n",
    "<pre>\n",
    "================================== STACK A ==================================\n",
    "              +--------+\n",
    "    pares-->  | 0x1234 |\n",
    "              .--------.\n",
    "\n",
    "              +--------+\n",
    "  impares-->  | 0x1234 |\n",
    "              .--------.\n",
    "  \n",
    "================================== HEAP A ==================================\n",
    "\n",
    "            +----+\n",
    "0x1234 -->  | 1  |\n",
    "            .----.\n",
    "            | 3  |\n",
    "            .----.\n",
    "            | 5  |\n",
    "            .----.\n",
    "            | 7  |\n",
    "            +----+\n",
    "</pre>              \n",
    "\n",
    "<pre>\n",
    "================================== STACK B ==================================\n",
    "              +--------+\n",
    "    pares-->  | 0x1234 |\n",
    "              .--------.\n",
    "\n",
    "              +--------+\n",
    "  impares-->  | 0x1234 |\n",
    "              .--------.\n",
    "  \n",
    "================================== HEAP B ==================================\n",
    "\n",
    "            +----+\n",
    "0x1234 -->  | 1  |\n",
    "            .----.\n",
    "            | 3  |\n",
    "            .----.\n",
    "            | 4  |\n",
    "            .----.\n",
    "            | 7  |\n",
    "            +----+\n",
    "</pre>              \n"
   ]
  },
  {
   "cell_type": "markdown",
   "metadata": {},
   "source": [
    "El array tiene como contra el no poder crecer de manera dinamica, a medida que vayamos necesitando mas espacio para almacenar informacion nueva.\n",
    "\n",
    "Para solucionar este problema, la BCL de NET dispone de una clase/tipo denominada List&lt;T&gt; en la cual llamaremos a **T** parametro de tipo (*type parameter*).\n",
    "\n",
    "La funcionalidad de este tipo de datos es similar al de un array, pero puede crecer de manera dinamica. Por ahora pensar que tenemos que suplantar **T** por el tipo base que necesitemos, y asi usando Add() podremos agregar elementos a la lista mientras tengamos memoria suficiente.\n",
    "\n",
    "```csharp\n",
    "  int[] array = new int[100];   //  limitado a 100\n",
    "\n",
    "  //  entonces se traduce en \n",
    "  List<int> lista = new List<int>();  //  limitado por la memoria\n",
    "```"
   ]
  },
  {
   "cell_type": "code",
   "execution_count": null,
   "metadata": {
    "dotnet_interactive": {
     "language": "csharp"
    },
    "vscode": {
     "languageId": "dotnet-interactive.csharp"
    }
   },
   "outputs": [],
   "source": [
    "List<int> impares = new List<int>();\n",
    "//  List<int[]> xx;\n",
    "\n",
    "for (int indice = 0; indice < 50 ; indice++)\n",
    "  impares.Add((indice *2)+1);\n",
    "\n",
    "impares[20]= 1221213;\n",
    "\n",
    "foreach (var x in impares)\n",
    "  Console.Write($\"{x} \");\n",
    "\n",
    "for (int indice = 0; indice < impares.Count; indice++)\n",
    "  Console.Write($\"{impares[indice]} \");\n",
    "\n",
    "// for (int indice = 50; indice < 500 ; indice++) impares.Add((indice *2)+1);\n"
   ]
  }
 ],
 "metadata": {
  "kernelspec": {
   "display_name": ".NET (C#)",
   "language": "C#",
   "name": ".net-csharp"
  },
  "language_info": {
   "file_extension": ".cs",
   "mimetype": "text/x-csharp",
   "name": "C#",
   "pygments_lexer": "csharp",
   "version": "9.0"
  },
  "orig_nbformat": 4,
  "vscode": {
   "interpreter": {
    "hash": "9c7f5a96e196bafa8eb4912f7c266e965e894bbfb702cd276d56adfe2d42cab6"
   }
  }
 },
 "nbformat": 4,
 "nbformat_minor": 2
}

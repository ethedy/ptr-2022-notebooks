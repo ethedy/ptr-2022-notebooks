{
 "cells": [
  {
   "cell_type": "markdown",
   "metadata": {},
   "source": [
    "### Arrays\n",
    "\n",
    "Los arreglos, arrays o vectores son una de las estructuras mas basicas pero tambien una de las mas usadas en cualquier algoritmo y que por supuesto se presenta en la mayoria de los lenguajes de programacio, de una manera u otra.\n",
    "\n",
    "En C# un array es un tipo en si mismo (System.Array) pero para todos los fines practicos siempre vamos a considerar que una variable sera de tipo \"array de X\" donde X es el tipo de cada una de las celdas del arreglo.\n",
    "\n",
    "Las celdas como vimos en el slide se empiezan a contar siempre desde CERO\n",
    "\n",
    "El CLR tiene mecanismos adecuados para asegurarnos que nunca vamos a exceder el limite de un array, o sea nunca vamos a poder acceder a un elemento que no existe. Si el array de de 10 elementos nunca podremos acceder al #11"
   ]
  },
  {
   "cell_type": "code",
   "execution_count": null,
   "metadata": {
    "dotnet_interactive": {
     "language": "csharp"
    },
    "vscode": {
     "languageId": "dotnet-interactive.csharp"
    }
   },
   "outputs": [],
   "source": [
    "//  declaracion y definicion simple\n",
    "\n",
    "int[] pares = new [] {0, 2, 4, 6, 8, 10};\n",
    "\n",
    "Console.WriteLine($\"El tamaño del array es {pares.Length}\");\n",
    "\n",
    "//  declaracion y definicion con el operador new\n",
    "\n",
    "int[] impares = new int[10];\n",
    "\n",
    "//  para llenarlo podemos usar un for()\n",
    "\n",
    "for (int i = 0; i < impares.Length; i++)\n",
    "  impares[i] = (i * 2) + 1;\n",
    "\n",
    "impares.Display();\n",
    "\n",
    "//  Console.WriteLine(impares[10]);"
   ]
  },
  {
   "cell_type": "markdown",
   "metadata": {},
   "source": [
    "Si bien en un arreglo es bien conocido el tamaño (tenemos que crearlo con un tamaño inicial) a veces es mas practico recorrerlo con una sentencia foreach\n",
    "\n",
    "Sin embargo tener en cuenta que no podemos modificar los valores del array ya que la variable de iteracion es de solo lectura\n",
    "\n",
    "Por ejemplo, tratemos de multiplicar por dos cada elemento del array de impares..."
   ]
  },
  {
   "cell_type": "code",
   "execution_count": null,
   "metadata": {
    "dotnet_interactive": {
     "language": "csharp"
    },
    "vscode": {
     "languageId": "dotnet-interactive.csharp"
    }
   },
   "outputs": [],
   "source": []
  }
 ],
 "metadata": {
  "kernelspec": {
   "display_name": ".NET (C#)",
   "language": "C#",
   "name": ".net-csharp"
  },
  "language_info": {
   "file_extension": ".cs",
   "mimetype": "text/x-csharp",
   "name": "C#",
   "pygments_lexer": "csharp",
   "version": "9.0"
  },
  "orig_nbformat": 4,
  "vscode": {
   "interpreter": {
    "hash": "9c7f5a96e196bafa8eb4912f7c266e965e894bbfb702cd276d56adfe2d42cab6"
   }
  }
 },
 "nbformat": 4,
 "nbformat_minor": 2
}

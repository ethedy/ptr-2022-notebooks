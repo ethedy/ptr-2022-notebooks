{
 "cells": [
  {
   "cell_type": "markdown",
   "metadata": {},
   "source": [
    "Muchas veces vamos a tener que leer datos desde alguna fuente que no tiene el formato de fecha o numerico que necesitamos\n",
    "\n",
    "Podemos probar 31/12/2022, 12/31/2022 y ver cuando Parse o TryParse nos retornan un resultado valido. Pero en general nunca vamos a tener con estos metodos un resultado valido para ambas condiciones, o sea...o me quedo con la fecha en formato Argentina o me quedo con la de formato USA\n",
    "\n",
    "El problema es cuando en un mismo archivo podemos recibir ambas, o bien no sabemos en que formato van a llegar!!"
   ]
  },
  {
   "cell_type": "code",
   "execution_count": null,
   "metadata": {
    "dotnet_interactive": {
     "language": "csharp"
    },
    "vscode": {
     "languageId": "dotnet-interactive.csharp"
    }
   },
   "outputs": [],
   "source": [
    "\n",
    "string fechaTexto = \"12-31-2022\";\n",
    "\n",
    "DateTime fecha;\n",
    "\n",
    "System.Globalization.CultureInfo.CurrentCulture.Name.Display();\n",
    "\n",
    "//  DateTime.Parse(fechaTexto).Display();\n",
    "\n",
    "// if (DateTime.TryParse(fechaTexto, out fecha))\n",
    "//   fecha.Display();\n",
    "// else\n",
    "//   Console.WriteLine(\"Formato invalido\");\n",
    "\n",
    "if (DateTime.TryParseExact(fechaTexto, new[] {\"dd-MM-yyyy\", \"MM-dd-yyyy\"}, null, \n",
    "   System.Globalization.DateTimeStyles.None, out fecha))\n",
    "  fecha.Display();\n",
    "else\n",
    "  Console.WriteLine(\"Formato invalido\");\n",
    "\n",
    "\n",
    "string numero = \"12.3454\";\n",
    "\n",
    "//Double.TryParse(numero, System.Globalization.NumberStyles.Any, null, out var valor);\n",
    "Double.TryParse(numero, System.Globalization.NumberStyles.Any,   \n",
    "  System.Globalization.CultureInfo.InvariantCulture, out var valor);\n",
    "\n",
    "valor.ToString(\"#.####\").Display();  "
   ]
  },
  {
   "cell_type": "markdown",
   "metadata": {},
   "source": [
    "Todos los tipos tienen una posibilidad de convertirse a string mediante el metodo ToString(), este metodo es llamado automaticamente cuando usamos por ejemplo Console.WriteLine() pero nada nos impide que podamos invocarlo explicitamente\n",
    "\n",
    "Algunas versiones de ToString() permiten especificar un formato adicional (en general las numericas y tipo fecha)"
   ]
  },
  {
   "cell_type": "code",
   "execution_count": null,
   "metadata": {
    "dotnet_interactive": {
     "language": "csharp"
    },
    "vscode": {
     "languageId": "dotnet-interactive.csharp"
    }
   },
   "outputs": [],
   "source": [
    "double pi = Math.PI;\n",
    "\n",
    "pi.ToString(\"#.##\").Display();\n",
    "\n",
    "DateTime.Now.ToString(\"dd MMM yy\").Display();\n"
   ]
  },
  {
   "cell_type": "markdown",
   "metadata": {},
   "source": [
    "Para declarar una funcion necesitamos conocer:\n",
    "\n",
    "- el tipo de dato que retorna (o void si no retorna nada)\n",
    "- cantidad y tipos de cada argumento\n",
    "- nombre que vamos a asignarle y que deberia ser significativo respecto a lo que se supone que sea la tarea/objetivo de la funcion\n",
    "\n",
    "Una funcion conocida como Factorial que sabemos que se define para numeros enteros positivos como:\n",
    "\n",
    "- si n > 1: n! = n * (n-1)!\n",
    "- si n = 1: n! = 1\n",
    "\n",
    "Podemos aplicar la tecnica de recursividad (cuando una funcion se llama a si misma) para obtener una version basica del factorial de la siguiente manera:"
   ]
  },
  {
   "cell_type": "code",
   "execution_count": null,
   "metadata": {
    "dotnet_interactive": {
     "language": "csharp"
    },
    "vscode": {
     "languageId": "dotnet-interactive.csharp"
    }
   },
   "outputs": [],
   "source": [
    "int Factorial(int n)\n",
    "{\n",
    "  if (n == 1)\n",
    "    return 1;\n",
    "\n",
    "  return n * Factorial(n-1);\n",
    "}\n",
    "\n",
    "int x = Factorial(4);\n",
    "\n",
    "x.Display();"
   ]
  },
  {
   "cell_type": "markdown",
   "metadata": {},
   "source": [
    "Vemos que el nombre de la funcion es consistente con lo que hace, asi como los parametros y el tipo de retorno...\n",
    "\n",
    "Una restriccion de las funciones es que solo permite retornar un valor de un tipo determinado. Si bien podriamos declarar una funcion que retorne un array de enteros\n",
    "\n",
    "```csharp\n",
    "  int[] RetornaArray(int size) \n",
    "  {\n",
    "    return new int[size];\n",
    "  }\n",
    "```\n",
    "\n",
    "El array que retorna es considerado como un unico valor, por mas que en teoria es una estructura que puede contener muchos elementos.\n",
    "\n",
    "Las funciones como TryParse() retornan un tipo bool para indicar que el parsing fue correcto o no, pero necesitan un parametro adicional de salida que nos devuelva el valor convertido.\n",
    "\n",
    "Para eso (y para otros usos) existen los parametros **out** y **ref** \n",
    "\n",
    "Sabemos que el pasaje de parametros en C# es por VALOR, o sea se copia el valor de la variable que pasamos en una ubicacion local a la que solamente accede la funcion. La funcion no puede en ningun caso modificar el contenido de la variable del llamador.\n",
    "\n",
    "En los casos out y ref el pasaje es por REFERENCIA, o sea que se copia una REFERENCIA a la variable que el llamador esta pasando. En ese caso la funcion accede a la variable original y puede modificarla!!\n",
    "\n",
    "Ahora vemos algunos casos que nos permiten ejemplificar esta situacion:\n",
    "\n",
    "CASO 1: funcion normal, paso por VALOR, ambas \"x\" son completamente independientes"
   ]
  },
  {
   "cell_type": "code",
   "execution_count": null,
   "metadata": {
    "dotnet_interactive": {
     "language": "csharp"
    },
    "vscode": {
     "languageId": "dotnet-interactive.csharp"
    }
   },
   "outputs": [],
   "source": [
    "\n",
    "int x = 10;\n",
    "\n",
    "Nada(x);\n",
    "\n",
    "Console.WriteLine(x);\n",
    "\n",
    "//  el compilador COPIA el valor de x del llamador en una posicion interna de la funcion\n",
    "//  que en el bloque de la misma sera llamada x\n",
    "//\n",
    "void Nada(int x)\n",
    "{\n",
    "  //  x es el argumento, local a Nada()\n",
    "  //\n",
    "  x *= 100; \n",
    "  Console.WriteLine(x);\n",
    "}\n"
   ]
  },
  {
   "cell_type": "markdown",
   "metadata": {},
   "source": [
    "CASO 2: paso por referencia, lo que se copia aca es una REFERENCIA a x del llamador por lo tanto cuando uso la variable local \"a\" lo que estoy haciendo es \"usar\" la variable x original. Puede verse en el resultado que dentro de Nada() terminamos modificando el valor externo de x"
   ]
  },
  {
   "cell_type": "code",
   "execution_count": null,
   "metadata": {
    "dotnet_interactive": {
     "language": "csharp"
    },
    "vscode": {
     "languageId": "dotnet-interactive.csharp"
    }
   },
   "outputs": [],
   "source": [
    "int[] x = new [] {0,1,2};\n",
    "\n",
    "x.Display();\n",
    "\n",
    "Nada(ref x);\n",
    "\n",
    "x.Display();\n",
    "\n",
    "void Nada(ref int[] a)\n",
    "{\n",
    "  a.Display();\n",
    "  a = new [] {3, 4, 5};\n",
    "  a[2] *= 100;\n",
    "  a.Display();\n",
    "}\n"
   ]
  },
  {
   "cell_type": "markdown",
   "metadata": {},
   "source": [
    "CASO 3: similar al caso 2 pero vemos que xx externo no esta inicializado.\n",
    "\n",
    "El **out** en CrearArray() determina un \"contrato\" entre llamador y funcion que el compilador obliga a cumplir: la funcion debe inicializar en algun momento el parametro out! Esto equivale a una asignacion pero que en lugar de hacerla con un = comun la hacemos mediante una llamada a funcion.\n",
    "\n",
    "Esta es la manera en la que trabaja TryParse() por ejemplo, y por eso una vez que esta funcion es invocada podemos usar la variable out sin inicializarla de manera tradicional."
   ]
  },
  {
   "cell_type": "code",
   "execution_count": null,
   "metadata": {
    "dotnet_interactive": {
     "language": "csharp"
    },
    "vscode": {
     "languageId": "dotnet-interactive.csharp"
    }
   },
   "outputs": [],
   "source": [
    "{\n",
    "  int[] xx;\n",
    "\n",
    "  CrearArray(out xx); // equivaldria a una asignacion xx = ....;\n",
    "\n",
    "  xx.Display();\n",
    "\n",
    "  void CrearArray(out int[] x)\n",
    "  {\n",
    "    x = new [] {3, 4, 5};\n",
    "  }\n",
    "}\n"
   ]
  }
 ],
 "metadata": {
  "kernelspec": {
   "display_name": ".NET (C#)",
   "language": "C#",
   "name": ".net-csharp"
  },
  "language_info": {
   "file_extension": ".cs",
   "mimetype": "text/x-csharp",
   "name": "C#",
   "pygments_lexer": "csharp",
   "version": "9.0"
  },
  "orig_nbformat": 4
 },
 "nbformat": 4,
 "nbformat_minor": 2
}

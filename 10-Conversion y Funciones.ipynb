{
 "cells": [
  {
   "cell_type": "markdown",
   "metadata": {},
   "source": [
    "Muchas veces vamos a tener que leer datos desde alguna fuente que no tiene el formato de fecha o numerico que necesitamos"
   ]
  },
  {
   "cell_type": "code",
   "execution_count": null,
   "metadata": {
    "dotnet_interactive": {
     "language": "csharp"
    },
    "vscode": {
     "languageId": "dotnet-interactive.csharp"
    }
   },
   "outputs": [],
   "source": [
    "string fechaTexto = \"01/01/2022\";\n",
    "\n",
    "DateTime fecha;\n",
    "\n",
    "DateTime.TryParseExact(fechaTexto, new[] {\"\"}, null, \n",
    "  System.Globalization.DateTimeStyles.None, out fecha);\n",
    "\n",
    "\n",
    "string numero = \"12.34\";\n",
    "\n",
    "Double.TryParse(numero, System.Globalization.NumberStyles.Any, \n",
    "  System.Globalization.CultureInfo.InvariantCulture, out var valor);\n",
    "\n",
    "valor.ToString(\"#.####\").Display();  "
   ]
  },
  {
   "cell_type": "markdown",
   "metadata": {},
   "source": [
    "Todos los tipos tienen una posibilidad de convertirse a string mediante el metodo ToString(), este metodo es llamado automaticamente cuando usamos por ejemplo Console.WriteLine() pero nada nos impide que podamos invocarlo explicitamente\n",
    "\n",
    "Algunas versiones de ToString() permiten especificar un formato adicional (en general las numericas y tipo fecha)"
   ]
  },
  {
   "cell_type": "code",
   "execution_count": null,
   "metadata": {
    "dotnet_interactive": {
     "language": "csharp"
    },
    "vscode": {
     "languageId": "dotnet-interactive.csharp"
    }
   },
   "outputs": [],
   "source": [
    "double pi = Math.PI;\n",
    "\n",
    "pi.ToString().Display();\n",
    "\n"
   ]
  },
  {
   "cell_type": "markdown",
   "metadata": {},
   "source": []
  },
  {
   "cell_type": "code",
   "execution_count": null,
   "metadata": {
    "dotnet_interactive": {
     "language": "csharp"
    },
    "vscode": {
     "languageId": "dotnet-interactive.csharp"
    }
   },
   "outputs": [],
   "source": [
    "int Factorial(int n)\n",
    "{\n",
    "  if (n == 1)\n",
    "    return 1;\n",
    "\n",
    "  return n * Factorial(n-1);\n",
    "}\n",
    "\n",
    "\n",
    "int x = Factorial(4);\n",
    "\n",
    "x.Display();"
   ]
  }
 ],
 "metadata": {
  "kernelspec": {
   "display_name": ".NET (C#)",
   "language": "C#",
   "name": ".net-csharp"
  },
  "language_info": {
   "file_extension": ".cs",
   "mimetype": "text/x-csharp",
   "name": "C#",
   "pygments_lexer": "csharp",
   "version": "9.0"
  },
  "orig_nbformat": 4
 },
 "nbformat": 4,
 "nbformat_minor": 2
}
